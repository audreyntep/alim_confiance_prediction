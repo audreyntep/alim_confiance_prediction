{
 "cells": [
  {
   "cell_type": "code",
   "execution_count": 4,
   "id": "22799d78",
   "metadata": {},
   "outputs": [
    {
     "data": {
      "text/html": [
       "<div>\n",
       "<style scoped>\n",
       "    .dataframe tbody tr th:only-of-type {\n",
       "        vertical-align: middle;\n",
       "    }\n",
       "\n",
       "    .dataframe tbody tr th {\n",
       "        vertical-align: top;\n",
       "    }\n",
       "\n",
       "    .dataframe thead th {\n",
       "        text-align: right;\n",
       "    }\n",
       "</style>\n",
       "<table border=\"1\" class=\"dataframe\">\n",
       "  <thead>\n",
       "    <tr style=\"text-align: right;\">\n",
       "      <th></th>\n",
       "      <th>APP_Libelle_etablissement</th>\n",
       "      <th>SIRET</th>\n",
       "      <th>Adresse_2_UA</th>\n",
       "      <th>Code_postal</th>\n",
       "      <th>Libelle_commune</th>\n",
       "      <th>Numero_inspection</th>\n",
       "      <th>Date_inspection</th>\n",
       "      <th>APP_Libelle_activite_etablissement</th>\n",
       "      <th>Synthese_eval_sanit</th>\n",
       "      <th>Agrement</th>\n",
       "      <th>geores</th>\n",
       "      <th>filtre</th>\n",
       "      <th>ods_type_activite</th>\n",
       "    </tr>\n",
       "  </thead>\n",
       "  <tbody>\n",
       "    <tr>\n",
       "      <th>0</th>\n",
       "      <td>NATURALIA FRANCE (NATURALIA FRANCE)</td>\n",
       "      <td>30247464800789</td>\n",
       "      <td>45 AV PIERRE LAROUSSE</td>\n",
       "      <td>92240.0</td>\n",
       "      <td>MALAKOFF</td>\n",
       "      <td>15914760</td>\n",
       "      <td>2021-03-03T01:00:00+01:00</td>\n",
       "      <td>Alimentation générale</td>\n",
       "      <td>Satisfaisant</td>\n",
       "      <td>NaN</td>\n",
       "      <td>48.822231,2.303769</td>\n",
       "      <td>Alimentation générale</td>\n",
       "      <td>Autres</td>\n",
       "    </tr>\n",
       "    <tr>\n",
       "      <th>1</th>\n",
       "      <td>KERMOYAN (RESTAU RAPIDE)</td>\n",
       "      <td>30112032500024</td>\n",
       "      <td>MARCHE</td>\n",
       "      <td>69500.0</td>\n",
       "      <td>BRON</td>\n",
       "      <td>16252422</td>\n",
       "      <td>2021-11-26T01:00:00+01:00</td>\n",
       "      <td>Restaurant</td>\n",
       "      <td>Très satisfaisant</td>\n",
       "      <td>NaN</td>\n",
       "      <td>45.743534,4.922893</td>\n",
       "      <td>Restaurant</td>\n",
       "      <td>Autres</td>\n",
       "    </tr>\n",
       "    <tr>\n",
       "      <th>2</th>\n",
       "      <td>NATURALIA (NATURALIA FRANCE)</td>\n",
       "      <td>30247464801894</td>\n",
       "      <td>36 RUE EUGENE EICHENBERGER</td>\n",
       "      <td>92800.0</td>\n",
       "      <td>PUTEAUX</td>\n",
       "      <td>15903092</td>\n",
       "      <td>2021-02-22T01:00:00+01:00</td>\n",
       "      <td>Alimentation générale</td>\n",
       "      <td>Très satisfaisant</td>\n",
       "      <td>NaN</td>\n",
       "      <td>48.881317,2.23746</td>\n",
       "      <td>Alimentation générale</td>\n",
       "      <td>Autres</td>\n",
       "    </tr>\n",
       "    <tr>\n",
       "      <th>3</th>\n",
       "      <td>JARDINERIE DE CHEVREUSE (JARDINERIE DE CHEVREUSE)</td>\n",
       "      <td>30890741900011</td>\n",
       "      <td>LE BREUIL</td>\n",
       "      <td>78460.0</td>\n",
       "      <td>CHEVREUSE</td>\n",
       "      <td>15901554</td>\n",
       "      <td>2021-02-19T01:00:00+01:00</td>\n",
       "      <td>_</td>\n",
       "      <td>Satisfaisant</td>\n",
       "      <td>NaN</td>\n",
       "      <td>48.698235,2.027014</td>\n",
       "      <td>NaN</td>\n",
       "      <td>Autres</td>\n",
       "    </tr>\n",
       "    <tr>\n",
       "      <th>4</th>\n",
       "      <td>INTERMARCHE (VIRODIS)</td>\n",
       "      <td>30668909200022</td>\n",
       "      <td>38 AV LE FOLL</td>\n",
       "      <td>94290.0</td>\n",
       "      <td>VILLENEUVE LE ROI</td>\n",
       "      <td>15968279</td>\n",
       "      <td>2021-04-14T02:00:00+02:00</td>\n",
       "      <td>Alimentation générale</td>\n",
       "      <td>Satisfaisant</td>\n",
       "      <td>NaN</td>\n",
       "      <td>48.730573,2.426559</td>\n",
       "      <td>Alimentation générale</td>\n",
       "      <td>Autres</td>\n",
       "    </tr>\n",
       "  </tbody>\n",
       "</table>\n",
       "</div>"
      ],
      "text/plain": [
       "                           APP_Libelle_etablissement           SIRET  \\\n",
       "0                NATURALIA FRANCE (NATURALIA FRANCE)  30247464800789   \n",
       "1                           KERMOYAN (RESTAU RAPIDE)  30112032500024   \n",
       "2                       NATURALIA (NATURALIA FRANCE)  30247464801894   \n",
       "3  JARDINERIE DE CHEVREUSE (JARDINERIE DE CHEVREUSE)  30890741900011   \n",
       "4                              INTERMARCHE (VIRODIS)  30668909200022   \n",
       "\n",
       "                 Adresse_2_UA  Code_postal    Libelle_commune  \\\n",
       "0       45 AV PIERRE LAROUSSE      92240.0           MALAKOFF   \n",
       "1                      MARCHE      69500.0               BRON   \n",
       "2  36 RUE EUGENE EICHENBERGER      92800.0            PUTEAUX   \n",
       "3                   LE BREUIL      78460.0          CHEVREUSE   \n",
       "4               38 AV LE FOLL      94290.0  VILLENEUVE LE ROI   \n",
       "\n",
       "  Numero_inspection            Date_inspection  \\\n",
       "0          15914760  2021-03-03T01:00:00+01:00   \n",
       "1          16252422  2021-11-26T01:00:00+01:00   \n",
       "2          15903092  2021-02-22T01:00:00+01:00   \n",
       "3          15901554  2021-02-19T01:00:00+01:00   \n",
       "4          15968279  2021-04-14T02:00:00+02:00   \n",
       "\n",
       "  APP_Libelle_activite_etablissement Synthese_eval_sanit Agrement  \\\n",
       "0              Alimentation générale        Satisfaisant      NaN   \n",
       "1                         Restaurant   Très satisfaisant      NaN   \n",
       "2              Alimentation générale   Très satisfaisant      NaN   \n",
       "3                                  _        Satisfaisant      NaN   \n",
       "4              Alimentation générale        Satisfaisant      NaN   \n",
       "\n",
       "               geores                 filtre ods_type_activite  \n",
       "0  48.822231,2.303769  Alimentation générale            Autres  \n",
       "1  45.743534,4.922893             Restaurant            Autres  \n",
       "2   48.881317,2.23746  Alimentation générale            Autres  \n",
       "3  48.698235,2.027014                    NaN            Autres  \n",
       "4  48.730573,2.426559  Alimentation générale            Autres  "
      ]
     },
     "execution_count": 4,
     "metadata": {},
     "output_type": "execute_result"
    }
   ],
   "source": [
    "import numpy as np\n",
    "import seaborn as sns\n",
    "import matplotlib.pyplot as plt\n",
    "import pandas as pd\n",
    "import sklearn\n",
    "\n",
    "export_alim_path=r'D:\\user\\Documents\\Simplon\\export_alimconfiance.csv'\n",
    "df=pd.read_csv(export_alim_path, sep=\";\")\n",
    "df.head()"
   ]
  },
  {
   "cell_type": "code",
   "execution_count": 6,
   "id": "48c3b41e",
   "metadata": {},
   "outputs": [
    {
     "name": "stdout",
     "output_type": "stream",
     "text": [
      "<class 'pandas.core.frame.DataFrame'>\n",
      "RangeIndex: 35880 entries, 0 to 35879\n",
      "Data columns (total 13 columns):\n",
      " #   Column                              Non-Null Count  Dtype  \n",
      "---  ------                              --------------  -----  \n",
      " 0   APP_Libelle_etablissement           35880 non-null  object \n",
      " 1   SIRET                               35880 non-null  object \n",
      " 2   Adresse_2_UA                        35430 non-null  object \n",
      " 3   Code_postal                         35871 non-null  float64\n",
      " 4   Libelle_commune                     35880 non-null  object \n",
      " 5   Numero_inspection                   35880 non-null  object \n",
      " 6   Date_inspection                     35880 non-null  object \n",
      " 7   APP_Libelle_activite_etablissement  35880 non-null  object \n",
      " 8   Synthese_eval_sanit                 35880 non-null  object \n",
      " 9   Agrement                            10020 non-null  object \n",
      " 10  geores                              35098 non-null  object \n",
      " 11  filtre                              26035 non-null  object \n",
      " 12  ods_type_activite                   35880 non-null  object \n",
      "dtypes: float64(1), object(12)\n",
      "memory usage: 3.6+ MB\n"
     ]
    }
   ],
   "source": [
    "df.info()"
   ]
  },
  {
   "cell_type": "code",
   "execution_count": 7,
   "id": "ffb4e3fd",
   "metadata": {},
   "outputs": [
    {
     "data": {
      "text/plain": [
       "APP_Libelle_etablissement                 0\n",
       "SIRET                                     0\n",
       "Adresse_2_UA                            450\n",
       "Code_postal                               9\n",
       "Libelle_commune                           0\n",
       "Numero_inspection                         0\n",
       "Date_inspection                           0\n",
       "APP_Libelle_activite_etablissement        0\n",
       "Synthese_eval_sanit                       0\n",
       "Agrement                              25860\n",
       "geores                                  782\n",
       "filtre                                 9845\n",
       "ods_type_activite                         0\n",
       "dtype: int64"
      ]
     },
     "execution_count": 7,
     "metadata": {},
     "output_type": "execute_result"
    }
   ],
   "source": [
    "df.isna().sum()"
   ]
  },
  {
   "cell_type": "code",
   "execution_count": 9,
   "id": "03b4f4bb",
   "metadata": {},
   "outputs": [
    {
     "data": {
      "text/plain": [
       "<seaborn.axisgrid.PairGrid at 0x20618ae9cd0>"
      ]
     },
     "execution_count": 9,
     "metadata": {},
     "output_type": "execute_result"
    },
    {
     "data": {
      "image/png": "[encoded data removed]",
      "text/plain": [
       "<Figure size 180x180 with 2 Axes>"
      ]
     },
     "metadata": {
      "needs_background": "light"
     },
     "output_type": "display_data"
    }
   ],
   "source": [
    "sns.pairplot(df)"
   ]
  },
  {
   "cell_type": "code",
   "execution_count": 17,
   "id": "36274a57",
   "metadata": {},
   "outputs": [
    {
     "data": {
      "text/plain": [
       "(35880, 13)"
      ]
     },
     "execution_count": 17,
     "metadata": {},
     "output_type": "execute_result"
    }
   ],
   "source": [
    "df.shape"
   ]
  },
  {
   "cell_type": "code",
   "execution_count": 13,
   "id": "2b43cb4e",
   "metadata": {},
   "outputs": [
    {
     "data": {
      "text/plain": [
       "Text(0, 0.5, 'fréquence')"
      ]
     },
     "execution_count": 13,
     "metadata": {},
     "output_type": "execute_result"
    },
    {
     "data": {
      "image/png": "[encoded data removed]",
      "text/plain": [
       "<Figure size 432x288 with 1 Axes>"
      ]
     },
     "metadata": {
      "needs_background": "light"
     },
     "output_type": "display_data"
    }
   ],
   "source": [
    "plt.hist(df.Synthese_eval_sanit, bins=4, color = \"gray\", edgecolor = 'red')\n",
    "plt.title('histogramme',fontsize = 20)\n",
    "plt.xlabel('tumeur',fontsize = 16)\n",
    "plt.ylabel('fréquence', fontsize = 16)"
   ]
  },
  {
   "cell_type": "code",
   "execution_count": 15,
   "id": "803a4669",
   "metadata": {},
   "outputs": [
    {
     "data": {
      "image/png": "[encoded data removed]",
      "text/plain": [
       "<Figure size 576x432 with 2 Axes>"
      ]
     },
     "metadata": {
      "needs_background": "light"
     },
     "output_type": "display_data"
    },
    {
     "data": {
      "text/html": [
       "<style type=\"text/css\">\n",
       "#T_67f64_row0_col0 {\n",
       "  background-color: #3b4cc0;\n",
       "  color: #f1f1f1;\n",
       "}\n",
       "</style>\n",
       "<table id=\"T_67f64_\">\n",
       "  <thead>\n",
       "    <tr>\n",
       "      <th class=\"blank level0\" >&nbsp;</th>\n",
       "      <th class=\"col_heading level0 col0\" >Code_postal</th>\n",
       "    </tr>\n",
       "  </thead>\n",
       "  <tbody>\n",
       "    <tr>\n",
       "      <th id=\"T_67f64_level0_row0\" class=\"row_heading level0 row0\" >Code_postal</th>\n",
       "      <td id=\"T_67f64_row0_col0\" class=\"data row0 col0\" >1.000000</td>\n",
       "    </tr>\n",
       "  </tbody>\n",
       "</table>\n"
      ],
      "text/plain": [
       "<pandas.io.formats.style.Styler at 0x2061a40c0a0>"
      ]
     },
     "execution_count": 15,
     "metadata": {},
     "output_type": "execute_result"
    }
   ],
   "source": [
    "corr_df = df.corr()\n",
    "\n",
    "plt.figure(figsize=(8, 6))\n",
    "sns.heatmap(corr_df, annot=True)\n",
    "plt.show()\n",
    "\n",
    "corr_df.style.background_gradient(cmap='coolwarm')"
   ]
  },
  {
   "cell_type": "code",
   "execution_count": null,
   "id": "682e6f0d",
   "metadata": {},
   "outputs": [],
   "source": []
  }
 ],
 "metadata": {
  "kernelspec": {
   "display_name": "Python 3 (ipykernel)",
   "language": "python",
   "name": "python3"
  },
  "language_info": {
   "codemirror_mode": {
    "name": "ipython",
    "version": 3
   },
   "file_extension": ".py",
   "mimetype": "text/x-python",
   "name": "python",
   "nbconvert_exporter": "python",
   "pygments_lexer": "ipython3",
   "version": "3.9.7"
  }
 },
 "nbformat": 4,
 "nbformat_minor": 5
}
