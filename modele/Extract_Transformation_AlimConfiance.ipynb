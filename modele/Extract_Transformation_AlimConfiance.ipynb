{
 "cells": [
  {
   "cell_type": "markdown",
   "metadata": {},
   "source": [
    "### AlimConfiance Groupe 4 : Audrey, Jaufret, Babacar"
   ]
  },
  {
   "cell_type": "markdown",
   "metadata": {},
   "source": [
    "## Mise en forme des données"
   ]
  },
  {
   "cell_type": "markdown",
   "metadata": {},
   "source": [
    "1. Importation des librairies et du dataset"
   ]
  },
  {
   "cell_type": "code",
   "execution_count": 132,
   "metadata": {},
   "outputs": [
    {
     "data": {
      "text/html": [
       "<div>\n",
       "<style scoped>\n",
       "    .dataframe tbody tr th:only-of-type {\n",
       "        vertical-align: middle;\n",
       "    }\n",
       "\n",
       "    .dataframe tbody tr th {\n",
       "        vertical-align: top;\n",
       "    }\n",
       "\n",
       "    .dataframe thead th {\n",
       "        text-align: right;\n",
       "    }\n",
       "</style>\n",
       "<table border=\"1\" class=\"dataframe\">\n",
       "  <thead>\n",
       "    <tr style=\"text-align: right;\">\n",
       "      <th></th>\n",
       "      <th>APP_Libelle_etablissement</th>\n",
       "      <th>SIRET</th>\n",
       "      <th>Adresse_2_UA</th>\n",
       "      <th>Code_postal</th>\n",
       "      <th>Libelle_commune</th>\n",
       "      <th>Numero_inspection</th>\n",
       "      <th>Date_inspection</th>\n",
       "      <th>APP_Libelle_activite_etablissement</th>\n",
       "      <th>Synthese_eval_sanit</th>\n",
       "      <th>Agrement</th>\n",
       "      <th>geores</th>\n",
       "      <th>filtre</th>\n",
       "      <th>ods_type_activite</th>\n",
       "    </tr>\n",
       "  </thead>\n",
       "  <tbody>\n",
       "    <tr>\n",
       "      <th>0</th>\n",
       "      <td>NATURALIA FRANCE (NATURALIA FRANCE)</td>\n",
       "      <td>30247464800789</td>\n",
       "      <td>45 AV PIERRE LAROUSSE</td>\n",
       "      <td>92240</td>\n",
       "      <td>MALAKOFF</td>\n",
       "      <td>15914760</td>\n",
       "      <td>2021-03-03T01:00:00+01:00</td>\n",
       "      <td>Alimentation générale</td>\n",
       "      <td>Satisfaisant</td>\n",
       "      <td>NaN</td>\n",
       "      <td>48.822231,2.303769</td>\n",
       "      <td>Alimentation générale</td>\n",
       "      <td>Autres</td>\n",
       "    </tr>\n",
       "    <tr>\n",
       "      <th>1</th>\n",
       "      <td>KERMOYAN (RESTAU RAPIDE)</td>\n",
       "      <td>30112032500024</td>\n",
       "      <td>MARCHE</td>\n",
       "      <td>69500</td>\n",
       "      <td>BRON</td>\n",
       "      <td>16252422</td>\n",
       "      <td>2021-11-26T01:00:00+01:00</td>\n",
       "      <td>Restaurant</td>\n",
       "      <td>Très satisfaisant</td>\n",
       "      <td>NaN</td>\n",
       "      <td>45.743534,4.922893</td>\n",
       "      <td>Restaurant</td>\n",
       "      <td>Autres</td>\n",
       "    </tr>\n",
       "    <tr>\n",
       "      <th>2</th>\n",
       "      <td>NATURALIA (NATURALIA FRANCE)</td>\n",
       "      <td>30247464801894</td>\n",
       "      <td>36 RUE EUGENE EICHENBERGER</td>\n",
       "      <td>92800</td>\n",
       "      <td>PUTEAUX</td>\n",
       "      <td>15903092</td>\n",
       "      <td>2021-02-22T01:00:00+01:00</td>\n",
       "      <td>Alimentation générale</td>\n",
       "      <td>Très satisfaisant</td>\n",
       "      <td>NaN</td>\n",
       "      <td>48.881317,2.23746</td>\n",
       "      <td>Alimentation générale</td>\n",
       "      <td>Autres</td>\n",
       "    </tr>\n",
       "    <tr>\n",
       "      <th>3</th>\n",
       "      <td>JARDINERIE DE CHEVREUSE (JARDINERIE DE CHEVREUSE)</td>\n",
       "      <td>30890741900011</td>\n",
       "      <td>LE BREUIL</td>\n",
       "      <td>78460</td>\n",
       "      <td>CHEVREUSE</td>\n",
       "      <td>15901554</td>\n",
       "      <td>2021-02-19T01:00:00+01:00</td>\n",
       "      <td>_</td>\n",
       "      <td>Satisfaisant</td>\n",
       "      <td>NaN</td>\n",
       "      <td>48.698235,2.027014</td>\n",
       "      <td>NaN</td>\n",
       "      <td>Autres</td>\n",
       "    </tr>\n",
       "    <tr>\n",
       "      <th>4</th>\n",
       "      <td>INTERMARCHE (VIRODIS)</td>\n",
       "      <td>30668909200022</td>\n",
       "      <td>38 AV LE FOLL</td>\n",
       "      <td>94290</td>\n",
       "      <td>VILLENEUVE LE ROI</td>\n",
       "      <td>15968279</td>\n",
       "      <td>2021-04-14T02:00:00+02:00</td>\n",
       "      <td>Alimentation générale</td>\n",
       "      <td>Satisfaisant</td>\n",
       "      <td>NaN</td>\n",
       "      <td>48.730573,2.426559</td>\n",
       "      <td>Alimentation générale</td>\n",
       "      <td>Autres</td>\n",
       "    </tr>\n",
       "  </tbody>\n",
       "</table>\n",
       "</div>"
      ],
      "text/plain": [
       "                           APP_Libelle_etablissement           SIRET  \\\n",
       "0                NATURALIA FRANCE (NATURALIA FRANCE)  30247464800789   \n",
       "1                           KERMOYAN (RESTAU RAPIDE)  30112032500024   \n",
       "2                       NATURALIA (NATURALIA FRANCE)  30247464801894   \n",
       "3  JARDINERIE DE CHEVREUSE (JARDINERIE DE CHEVREUSE)  30890741900011   \n",
       "4                              INTERMARCHE (VIRODIS)  30668909200022   \n",
       "\n",
       "                 Adresse_2_UA Code_postal    Libelle_commune  \\\n",
       "0       45 AV PIERRE LAROUSSE       92240           MALAKOFF   \n",
       "1                      MARCHE       69500               BRON   \n",
       "2  36 RUE EUGENE EICHENBERGER       92800            PUTEAUX   \n",
       "3                   LE BREUIL       78460          CHEVREUSE   \n",
       "4               38 AV LE FOLL       94290  VILLENEUVE LE ROI   \n",
       "\n",
       "  Numero_inspection            Date_inspection  \\\n",
       "0          15914760  2021-03-03T01:00:00+01:00   \n",
       "1          16252422  2021-11-26T01:00:00+01:00   \n",
       "2          15903092  2021-02-22T01:00:00+01:00   \n",
       "3          15901554  2021-02-19T01:00:00+01:00   \n",
       "4          15968279  2021-04-14T02:00:00+02:00   \n",
       "\n",
       "  APP_Libelle_activite_etablissement Synthese_eval_sanit Agrement  \\\n",
       "0              Alimentation générale        Satisfaisant      NaN   \n",
       "1                         Restaurant   Très satisfaisant      NaN   \n",
       "2              Alimentation générale   Très satisfaisant      NaN   \n",
       "3                                  _        Satisfaisant      NaN   \n",
       "4              Alimentation générale        Satisfaisant      NaN   \n",
       "\n",
       "               geores                 filtre ods_type_activite  \n",
       "0  48.822231,2.303769  Alimentation générale            Autres  \n",
       "1  45.743534,4.922893             Restaurant            Autres  \n",
       "2   48.881317,2.23746  Alimentation générale            Autres  \n",
       "3  48.698235,2.027014                    NaN            Autres  \n",
       "4  48.730573,2.426559  Alimentation générale            Autres  "
      ]
     },
     "execution_count": 132,
     "metadata": {},
     "output_type": "execute_result"
    }
   ],
   "source": [
    "#Importation des librairies\n",
    "import numpy as np\n",
    "import seaborn as sns\n",
    "import matplotlib.pyplot as plt\n",
    "import pandas as pd\n",
    "import sklearn\n",
    "from IPython.display import display\n",
    "from sklearn import preprocessing\n",
    "\n",
    "# Importation du dataset\n",
    "export_alim_path=r'C:\\Users\\diaba\\Desktop\\export_alimconfiance.csv'\n",
    "df=pd.read_csv(export_alim_path, sep=\";\")\n",
    "\n",
    "# Affichage des données\n",
    "df.head()"
   ]
  },
  {
   "cell_type": "markdown",
   "metadata": {},
   "source": [
    "2. Affichage des informations descriptives relatives aux variables"
   ]
  },
  {
   "cell_type": "code",
   "execution_count": 133,
   "metadata": {},
   "outputs": [
    {
     "name": "stdout",
     "output_type": "stream",
     "text": [
      "<class 'pandas.core.frame.DataFrame'>\n",
      "RangeIndex: 35662 entries, 0 to 35661\n",
      "Data columns (total 13 columns):\n",
      " #   Column                              Non-Null Count  Dtype \n",
      "---  ------                              --------------  ----- \n",
      " 0   APP_Libelle_etablissement           35662 non-null  object\n",
      " 1   SIRET                               35662 non-null  object\n",
      " 2   Adresse_2_UA                        35211 non-null  object\n",
      " 3   Code_postal                         35662 non-null  object\n",
      " 4   Libelle_commune                     35662 non-null  object\n",
      " 5   Numero_inspection                   35662 non-null  object\n",
      " 6   Date_inspection                     35662 non-null  object\n",
      " 7   APP_Libelle_activite_etablissement  35662 non-null  object\n",
      " 8   Synthese_eval_sanit                 35662 non-null  object\n",
      " 9   Agrement                            9840 non-null   object\n",
      " 10  geores                              34563 non-null  object\n",
      " 11  filtre                              25999 non-null  object\n",
      " 12  ods_type_activite                   35662 non-null  object\n",
      "dtypes: object(13)\n",
      "memory usage: 3.5+ MB\n"
     ]
    }
   ],
   "source": [
    "df.info()"
   ]
  },
  {
   "cell_type": "markdown",
   "metadata": {},
   "source": [
    "3. Supression des colonnes jugées non pertinantes"
   ]
  },
  {
   "cell_type": "code",
   "execution_count": 134,
   "metadata": {},
   "outputs": [
    {
     "name": "stdout",
     "output_type": "stream",
     "text": [
      "<class 'pandas.core.frame.DataFrame'>\n",
      "RangeIndex: 35662 entries, 0 to 35661\n",
      "Data columns (total 6 columns):\n",
      " #   Column                              Non-Null Count  Dtype \n",
      "---  ------                              --------------  ----- \n",
      " 0   SIRET                               35662 non-null  object\n",
      " 1   Code_postal                         35662 non-null  object\n",
      " 2   APP_Libelle_activite_etablissement  35662 non-null  object\n",
      " 3   Synthese_eval_sanit                 35662 non-null  object\n",
      " 4   Agrement                            9840 non-null   object\n",
      " 5   ods_type_activite                   35662 non-null  object\n",
      "dtypes: object(6)\n",
      "memory usage: 1.6+ MB\n"
     ]
    }
   ],
   "source": [
    "# Suppression des colonnes\n",
    "df. drop(['APP_Libelle_etablissement', 'Adresse_2_UA', 'Libelle_commune', 'Numero_inspection','Date_inspection','geores', 'filtre'], axis = 1, inplace = True)\n",
    "#Affichage des colonnes restantes\n",
    "#On peut remarquer que toutes les valeurs sont non-null mise à part dans la colonne Agrement\n",
    "df.info()"
   ]
  },
  {
   "cell_type": "markdown",
   "metadata": {},
   "source": [
    "4. Conversion des valeurs"
   ]
  },
  {
   "cell_type": "code",
   "execution_count": 135,
   "metadata": {},
   "outputs": [
    {
     "name": "stdout",
     "output_type": "stream",
     "text": [
      "<class 'pandas.core.frame.DataFrame'>\n",
      "Int64Index: 35435 entries, 0 to 35661\n",
      "Data columns (total 9 columns):\n",
      " #   Column                                             Non-Null Count  Dtype  \n",
      "---  ------                                             --------------  -----  \n",
      " 0   SIRET                                              35435 non-null  int64  \n",
      " 1   Code_postal                                        35435 non-null  int32  \n",
      " 2   APP_Libelle_activite_etablissement                 35435 non-null  object \n",
      " 3   Agrement                                           35435 non-null  int32  \n",
      " 4   ods_type_activite                                  35331 non-null  float64\n",
      " 5   Synthese_eval_sanit_A améliorer                    35435 non-null  uint8  \n",
      " 6   Synthese_eval_sanit_A corriger de manière urgente  35435 non-null  uint8  \n",
      " 7   Synthese_eval_sanit_Satisfaisant                   35435 non-null  uint8  \n",
      " 8   Synthese_eval_sanit_Très satisfaisant              35435 non-null  uint8  \n",
      "dtypes: float64(1), int32(2), int64(1), object(1), uint8(4)\n",
      "memory usage: 1.5+ MB\n",
      "None\n"
     ]
    },
    {
     "name": "stderr",
     "output_type": "stream",
     "text": [
      "c:\\Users\\diaba\\Documents\\SimplonIAMicrosoft_21-23\\AlimConfiance\\IASecuAlim\\venv\\lib\\site-packages\\sklearn\\preprocessing\\_label.py:115: DataConversionWarning: A column-vector y was passed when a 1d array was expected. Please change the shape of y to (n_samples, ), for example using ravel().\n",
      "  y = column_or_1d(y, warn=True)\n"
     ]
    }
   ],
   "source": [
    "# SIRET\n",
    "df.drop(df[df['SIRET'].str.contains(\"^[a-z].*$\", regex=True, case=False)].index, inplace=True)\n",
    "df['SIRET']=df['SIRET'].astype('int64')\n",
    "\n",
    "# Code_postal\n",
    "# Récupération du département dans le code postal (suppression des 3 dernier chiffres)\n",
    "df['Code_postal'] = df['Code_postal'].apply(lambda x: str(x)[:2])\n",
    "df['Code_postal'] = df['Code_postal'].astype(int)\n",
    "\n",
    "# Agrement\n",
    "# Remplace les valeurs abs par des 0 dans la colonne\n",
    "df['Agrement'] = df['Agrement'].fillna(0)\n",
    "# Change le type de données en string (passage obligatoire car présence de lettre dans les agréments)\n",
    "df['Agrement']=df['Agrement'].astype(str)\n",
    "# Remplace les valeurs autre que 0 par 1 et converti la colonne en int\n",
    "df['Agrement'] = (df['Agrement'] != 0).astype(int)\n",
    "\n",
    "# Synthese_eval_sanit\n",
    "#Transformation de la colonne Synthese_eval_sanit grâce à get_dummies\n",
    "# Affichage des différents niveaux d'hygiène existants\n",
    "\n",
    "# Répartition des différents niveaux d'hygiene dans 4 colonnes\n",
    "df = pd.get_dummies(df, columns=['Synthese_eval_sanit'])\n",
    "\n",
    "#Mise en forme de la colonne ods_type_activite\n",
    "# Vérification des données\n",
    "le = preprocessing.LabelEncoder()\n",
    "\n",
    "df_type_activite=df['ods_type_activite'].astype(str)\n",
    "df_type_activite_fit=le.fit_transform(df_type_activite)\n",
    "df_type_activite_fit=pd.DataFrame(df_type_activite_fit, columns=['LabelEncoder'])\n",
    "df_type_activite=pd.concat([df_type_activite,df_type_activite_fit], axis=1)\n",
    "df['ods_type_activite'] = df_type_activite_fit\n",
    "df['ods_type_activite'].astype(int)\n",
    "# Mise en forme de la colonne libelle_activite\n",
    "# Suppression des lignes avec libelles manquants\n",
    "df.drop(df[df['APP_Libelle_activite_etablissement'].str.contains(\"_\")==True].index, inplace=True)\n",
    "\n",
    "# sépérations des libelles d'activités\n",
    "df_libelle = df['APP_Libelle_activite_etablissement']\n",
    "delimiter = '|'\n",
    "df_length = len(df_libelle)\n",
    "s = []\n",
    "for i in range(0, df_length):\n",
    "    row = df_libelle.iloc[i]\n",
    "    lib_activite = row.split(delimiter)\n",
    "    s = s + lib_activite\n",
    "d = {'APP_Libelle_activite_etablissement': s}\n",
    "df_libelle = pd.DataFrame(data=d)\n",
    "df_libelle.drop_duplicates(subset=['APP_Libelle_activite_etablissement'], keep='first', ignore_index=True ,inplace=True)\n",
    "\n",
    "#Application d'un labelEncoder sur le df_libelle \n",
    "df_libelle.astype(str)\n",
    "df_libelle_fit=le.fit_transform(df_libelle)\n",
    "df_libelle_fit=pd.DataFrame(df_libelle_fit, columns=['LabelEncoder'])\n",
    "df_libelle=pd.concat([df_libelle,df_libelle_fit], axis=1)\n",
    "\n",
    "\n",
    "#print(df_libelle.value_counts())\n",
    "# df.to_csv(path_or_buf=SAVE_CSV_FILEPATH + filename + '_temp.csv', sep=';', index=True)\n",
    "# print(\"\\nFile '%s.csv' created\\n\" % filename)\n",
    "\n",
    "# Verifications\n",
    "# display(df.columns)\n",
    "df.head(5)\n",
    "print(df.info())\n",
    "# print(df['Agrement'].value_counts())\n",
    "# print(df['Synthese_eval_sanit'].value_counts())\n",
    "# df_type_activite.value_counts()\n",
    "#df_libelle.value_counts()\n"
   ]
  },
  {
   "cell_type": "code",
   "execution_count": null,
   "metadata": {},
   "outputs": [],
   "source": []
  },
  {
   "cell_type": "code",
   "execution_count": 136,
   "metadata": {},
   "outputs": [
    {
     "ename": "AttributeError",
     "evalue": "'DataFrame' object has no attribute 'Class'",
     "output_type": "error",
     "traceback": [
      "\u001b[1;31m---------------------------------------------------------------------------\u001b[0m",
      "\u001b[1;31mAttributeError\u001b[0m                            Traceback (most recent call last)",
      "Input \u001b[1;32mIn [136]\u001b[0m, in \u001b[0;36m<module>\u001b[1;34m\u001b[0m\n\u001b[0;32m      1\u001b[0m \u001b[38;5;66;03m#visualisation des données\u001b[39;00m\n\u001b[1;32m----> 2\u001b[0m plt\u001b[38;5;241m.\u001b[39mhist(\u001b[43mdf\u001b[49m\u001b[38;5;241;43m.\u001b[39;49m\u001b[43mClass\u001b[49m, bins\u001b[38;5;241m=\u001b[39m\u001b[38;5;241m2\u001b[39m, color \u001b[38;5;241m=\u001b[39m \u001b[38;5;124m\"\u001b[39m\u001b[38;5;124mgray\u001b[39m\u001b[38;5;124m\"\u001b[39m, edgecolor \u001b[38;5;241m=\u001b[39m \u001b[38;5;124m'\u001b[39m\u001b[38;5;124mred\u001b[39m\u001b[38;5;124m'\u001b[39m)\n\u001b[0;32m      3\u001b[0m plt\u001b[38;5;241m.\u001b[39mtitle(\u001b[38;5;124m'\u001b[39m\u001b[38;5;124mhistogramme\u001b[39m\u001b[38;5;124m'\u001b[39m,fontsize \u001b[38;5;241m=\u001b[39m \u001b[38;5;241m20\u001b[39m)\n\u001b[0;32m      4\u001b[0m plt\u001b[38;5;241m.\u001b[39mxlabel(\u001b[38;5;124m'\u001b[39m\u001b[38;5;124mtumeur\u001b[39m\u001b[38;5;124m'\u001b[39m,fontsize \u001b[38;5;241m=\u001b[39m \u001b[38;5;241m16\u001b[39m)\n",
      "File \u001b[1;32mc:\\Users\\diaba\\Documents\\SimplonIAMicrosoft_21-23\\AlimConfiance\\IASecuAlim\\venv\\lib\\site-packages\\pandas\\core\\generic.py:5583\u001b[0m, in \u001b[0;36mNDFrame.__getattr__\u001b[1;34m(self, name)\u001b[0m\n\u001b[0;32m   5576\u001b[0m \u001b[38;5;28;01mif\u001b[39;00m (\n\u001b[0;32m   5577\u001b[0m     name \u001b[38;5;129;01mnot\u001b[39;00m \u001b[38;5;129;01min\u001b[39;00m \u001b[38;5;28mself\u001b[39m\u001b[38;5;241m.\u001b[39m_internal_names_set\n\u001b[0;32m   5578\u001b[0m     \u001b[38;5;129;01mand\u001b[39;00m name \u001b[38;5;129;01mnot\u001b[39;00m \u001b[38;5;129;01min\u001b[39;00m \u001b[38;5;28mself\u001b[39m\u001b[38;5;241m.\u001b[39m_metadata\n\u001b[0;32m   5579\u001b[0m     \u001b[38;5;129;01mand\u001b[39;00m name \u001b[38;5;129;01mnot\u001b[39;00m \u001b[38;5;129;01min\u001b[39;00m \u001b[38;5;28mself\u001b[39m\u001b[38;5;241m.\u001b[39m_accessors\n\u001b[0;32m   5580\u001b[0m     \u001b[38;5;129;01mand\u001b[39;00m \u001b[38;5;28mself\u001b[39m\u001b[38;5;241m.\u001b[39m_info_axis\u001b[38;5;241m.\u001b[39m_can_hold_identifiers_and_holds_name(name)\n\u001b[0;32m   5581\u001b[0m ):\n\u001b[0;32m   5582\u001b[0m     \u001b[38;5;28;01mreturn\u001b[39;00m \u001b[38;5;28mself\u001b[39m[name]\n\u001b[1;32m-> 5583\u001b[0m \u001b[38;5;28;01mreturn\u001b[39;00m \u001b[38;5;28;43mobject\u001b[39;49m\u001b[38;5;241;43m.\u001b[39;49m\u001b[38;5;21;43m__getattribute__\u001b[39;49m\u001b[43m(\u001b[49m\u001b[38;5;28;43mself\u001b[39;49m\u001b[43m,\u001b[49m\u001b[43m \u001b[49m\u001b[43mname\u001b[49m\u001b[43m)\u001b[49m\n",
      "\u001b[1;31mAttributeError\u001b[0m: 'DataFrame' object has no attribute 'Class'"
     ]
    }
   ],
   "source": [
    "#visualisation des données\n",
    "plt.hist(df.Class, bins=2, color = \"gray\", edgecolor = 'red')\n",
    "plt.title('histogramme',fontsize = 20)\n",
    "plt.xlabel('tumeur',fontsize = 16)\n",
    "plt.ylabel('fréquence', fontsize = 16)\n",
    "#ax = plt.axes()\n",
    "#ax.xaxis.set_major_locator(MultipleLocator(2))\n"
   ]
  },
  {
   "cell_type": "code",
   "execution_count": null,
   "metadata": {},
   "outputs": [
    {
     "data": {
      "text/plain": [
       "2    457\n",
       "4    241\n",
       "Name: Class, dtype: int64"
      ]
     },
     "execution_count": 95,
     "metadata": {},
     "output_type": "execute_result"
    }
   ],
   "source": [
    "#vérifier la distribution absolue des catégories de tumeurs\n",
    "df.Class.value_counts()\n"
   ]
  },
  {
   "cell_type": "code",
   "execution_count": null,
   "metadata": {},
   "outputs": [
    {
     "data": {
      "text/plain": [
       "2    0.654728\n",
       "4    0.345272\n",
       "Name: Class, dtype: float64"
      ]
     },
     "execution_count": 96,
     "metadata": {},
     "output_type": "execute_result"
    }
   ],
   "source": [
    "#la distribution relative des catégories de tumeurs\n",
    "df.Class.value_counts(normalize=True)\n"
   ]
  },
  {
   "cell_type": "markdown",
   "metadata": {},
   "source": [
    "3. Nous souhaitons réserver 390 observations pour l’entraînement et 297 pour le test, avec un échantillonnage qui respectent les proportions des classes dans les deux sous-ensembles (stratify)"
   ]
  },
  {
   "cell_type": "code",
   "execution_count": null,
   "metadata": {},
   "outputs": [],
   "source": [
    "X = df.drop(\"Class\", axis=1)\n",
    "y = df[\"Class\"]\n",
    "X_train, X_test, y_train, y_test = train_test_split(X, y,test_size=300,random_state=1,stratify=df.Class)"
   ]
  },
  {
   "cell_type": "code",
   "execution_count": null,
   "metadata": {},
   "outputs": [
    {
     "data": {
      "text/plain": [
       "((398,), (300,))"
      ]
     },
     "execution_count": 98,
     "metadata": {},
     "output_type": "execute_result"
    }
   ],
   "source": [
    "#vérification des dimensions\n",
    "y_train.shape , y_test.shape"
   ]
  },
  {
   "cell_type": "code",
   "execution_count": null,
   "metadata": {},
   "outputs": [
    {
     "data": {
      "text/plain": [
       "2    0.655779\n",
       "4    0.344221\n",
       "Name: Class, dtype: float64"
      ]
     },
     "execution_count": 99,
     "metadata": {},
     "output_type": "execute_result"
    }
   ],
   "source": [
    "#vérification des distributions en apprentissage\n",
    "y_train.value_counts(normalize=True)"
   ]
  },
  {
   "cell_type": "code",
   "execution_count": null,
   "metadata": {},
   "outputs": [
    {
     "data": {
      "text/plain": [
       "2    0.653333\n",
       "4    0.346667\n",
       "Name: Class, dtype: float64"
      ]
     },
     "execution_count": 100,
     "metadata": {},
     "output_type": "execute_result"
    }
   ],
   "source": [
    "#vérification des distributions en test\n",
    "y_test.value_counts(normalize=True)"
   ]
  },
  {
   "cell_type": "markdown",
   "metadata": {},
   "source": [
    "## Modélisation : arbre de décision"
   ]
  },
  {
   "cell_type": "markdown",
   "metadata": {},
   "source": [
    "1. Instancier l’ arbre de décision avec deux paramètres suivants : \n",
    "     - un sommet n’est pas segmenté s’il est composé de moins de 30 individus -> min_samples_split\n",
    "     - une segmentation est validée si et seulement si les feuilles générées comportent tous au moins 10 observations -> min_samples_leaf\n"
   ]
  },
  {
   "cell_type": "code",
   "execution_count": null,
   "metadata": {},
   "outputs": [],
   "source": [
    "# importer la classe DecisionTreeClassifier\n",
    "from sklearn.ensemble import RandomForestClassifier\n",
    "# créer le modèle d'arbre de décision\n",
    "# min_samples_split permet de bloquer la segmentation en dessous d'un certain nombre d'individus\n",
    "# min_samples_leaf permet de valider une segmentation si les feuilles générées comportent tous au moins un certain nombre d'obeservations\n",
    "classifier = RandomForestClassifier(n_estimators=60,random_state=0)\n",
    "# notre modèle est stocké dans la variable classifier "
   ]
  },
  {
   "cell_type": "markdown",
   "metadata": {},
   "source": [
    "2. Entraîner votre modèle"
   ]
  },
  {
   "cell_type": "code",
   "execution_count": null,
   "metadata": {
    "scrolled": true
   },
   "outputs": [
    {
     "data": {
      "text/plain": [
       "RandomForestClassifier(n_estimators=60, random_state=0)"
      ]
     },
     "execution_count": 102,
     "metadata": {},
     "output_type": "execute_result"
    }
   ],
   "source": [
    "# entraîner le modèle \n",
    "classifier.fit(X_train,y_train)"
   ]
  },
  {
   "cell_type": "markdown",
   "metadata": {},
   "source": [
    "2. Afficher l'arbre de décision "
   ]
  },
  {
   "cell_type": "code",
   "execution_count": null,
   "metadata": {},
   "outputs": [],
   "source": []
  },
  {
   "cell_type": "code",
   "execution_count": null,
   "metadata": {},
   "outputs": [
    {
     "data": {
      "text/html": [
       "<div>\n",
       "<style scoped>\n",
       "    .dataframe tbody tr th:only-of-type {\n",
       "        vertical-align: middle;\n",
       "    }\n",
       "\n",
       "    .dataframe tbody tr th {\n",
       "        vertical-align: top;\n",
       "    }\n",
       "\n",
       "    .dataframe thead th {\n",
       "        text-align: right;\n",
       "    }\n",
       "</style>\n",
       "<table border=\"1\" class=\"dataframe\">\n",
       "  <thead>\n",
       "    <tr style=\"text-align: right;\">\n",
       "      <th></th>\n",
       "      <th>Variable</th>\n",
       "      <th>Importance</th>\n",
       "    </tr>\n",
       "  </thead>\n",
       "  <tbody>\n",
       "    <tr>\n",
       "      <th>2</th>\n",
       "      <td>Uniformity of Cell Size</td>\n",
       "      <td>0.297371</td>\n",
       "    </tr>\n",
       "    <tr>\n",
       "      <th>6</th>\n",
       "      <td>Bare Nuclei</td>\n",
       "      <td>0.155579</td>\n",
       "    </tr>\n",
       "    <tr>\n",
       "      <th>8</th>\n",
       "      <td>Normal Nucleoli</td>\n",
       "      <td>0.133110</td>\n",
       "    </tr>\n",
       "    <tr>\n",
       "      <th>3</th>\n",
       "      <td>Uniformity of Cell Shape</td>\n",
       "      <td>0.123372</td>\n",
       "    </tr>\n",
       "    <tr>\n",
       "      <th>7</th>\n",
       "      <td>Bland Chromatin</td>\n",
       "      <td>0.115693</td>\n",
       "    </tr>\n",
       "    <tr>\n",
       "      <th>5</th>\n",
       "      <td>Single Epithelial Cell Size</td>\n",
       "      <td>0.068121</td>\n",
       "    </tr>\n",
       "    <tr>\n",
       "      <th>1</th>\n",
       "      <td>Clump Thickness</td>\n",
       "      <td>0.053806</td>\n",
       "    </tr>\n",
       "    <tr>\n",
       "      <th>4</th>\n",
       "      <td>Marginal Adhesion</td>\n",
       "      <td>0.032563</td>\n",
       "    </tr>\n",
       "    <tr>\n",
       "      <th>0</th>\n",
       "      <td>id</td>\n",
       "      <td>0.012903</td>\n",
       "    </tr>\n",
       "    <tr>\n",
       "      <th>9</th>\n",
       "      <td>Mitoses</td>\n",
       "      <td>0.007481</td>\n",
       "    </tr>\n",
       "  </tbody>\n",
       "</table>\n",
       "</div>"
      ],
      "text/plain": [
       "                      Variable  Importance\n",
       "2      Uniformity of Cell Size    0.297371\n",
       "6                  Bare Nuclei    0.155579\n",
       "8              Normal Nucleoli    0.133110\n",
       "3     Uniformity of Cell Shape    0.123372\n",
       "7              Bland Chromatin    0.115693\n",
       "5  Single Epithelial Cell Size    0.068121\n",
       "1              Clump Thickness    0.053806\n",
       "4            Marginal Adhesion    0.032563\n",
       "0                           id    0.012903\n",
       "9                      Mitoses    0.007481"
      ]
     },
     "execution_count": 103,
     "metadata": {},
     "output_type": "execute_result"
    }
   ],
   "source": [
    "# importance des variables à l'aide de la méthode ’.feature_importances_’\n",
    "impVarFirst={\"Variable\":df.columns[:-1],\"Importance\":classifier.feature_importances_}\n",
    "pd.DataFrame(impVarFirst).sort_values(by=\"Importance\",ascending=False)"
   ]
  },
  {
   "cell_type": "markdown",
   "metadata": {},
   "source": [
    "3. Réaliser les prédictions sur l'échantillon test"
   ]
  },
  {
   "cell_type": "code",
   "execution_count": null,
   "metadata": {},
   "outputs": [
    {
     "data": {
      "text/plain": [
       "(300,)"
      ]
     },
     "execution_count": 104,
     "metadata": {},
     "output_type": "execute_result"
    }
   ],
   "source": [
    "y_pred = classifier.predict(X_test)\n",
    "y_pred.shape\n"
   ]
  },
  {
   "cell_type": "markdown",
   "metadata": {},
   "source": [
    "4. Afficher la matrice de confusion"
   ]
  },
  {
   "cell_type": "code",
   "execution_count": null,
   "metadata": {},
   "outputs": [
    {
     "name": "stdout",
     "output_type": "stream",
     "text": [
      "Confusion matrix:\n",
      "[[189   7]\n",
      " [  5  99]]\n"
     ]
    },
    {
     "name": "stderr",
     "output_type": "stream",
     "text": [
      "C:\\Users\\diaba\\AppData\\Local\\Programs\\Python\\Python310\\lib\\site-packages\\sklearn\\utils\\deprecation.py:87: FutureWarning: Function plot_confusion_matrix is deprecated; Function `plot_confusion_matrix` is deprecated in 1.0 and will be removed in 1.2. Use one of the class methods: ConfusionMatrixDisplay.from_predictions or ConfusionMatrixDisplay.from_estimator.\n",
      "  warnings.warn(msg, category=FutureWarning)\n"
     ]
    },
    {
     "data": {
      "image/png": "[encoded data removed]",
      "text/plain": [
       "<Figure size 432x288 with 2 Axes>"
      ]
     },
     "metadata": {
      "needs_background": "light"
     },
     "output_type": "display_data"
    }
   ],
   "source": [
    "#matrice de confusion\n",
    "from sklearn import metrics\n",
    "disp = metrics.plot_confusion_matrix(classifier,X_test, y_test)\n",
    "disp.figure_.suptitle(\"Confusion Matrix\")\n",
    "print(f\"Confusion matrix:\\n{disp.confusion_matrix}\")\n",
    "\n",
    "plt.show()"
   ]
  },
  {
   "cell_type": "markdown",
   "metadata": {},
   "source": [
    "5. afficher la précision et le rappel"
   ]
  },
  {
   "cell_type": "code",
   "execution_count": null,
   "metadata": {},
   "outputs": [
    {
     "name": "stdout",
     "output_type": "stream",
     "text": [
      "              precision    recall  f1-score   support\n",
      "\n",
      "           2       0.97      0.96      0.97       196\n",
      "           4       0.93      0.95      0.94       104\n",
      "\n",
      "    accuracy                           0.96       300\n",
      "   macro avg       0.95      0.96      0.96       300\n",
      "weighted avg       0.96      0.96      0.96       300\n",
      "\n"
     ]
    }
   ],
   "source": [
    "#rapport de prédiction\n",
    "from sklearn.metrics import classification_report\n",
    "print(classification_report(y_test, y_pred))"
   ]
  },
  {
   "cell_type": "markdown",
   "metadata": {},
   "source": [
    "Interprétation\n",
    "\n",
    " - le support. C'est le nombre d'éléments dans chacune des classes de l'échantillon de test.\n",
    " \n",
    " \n",
    " - precision : il est définit par $p = \\frac{TP}{TP+FP}$ où TP = \"true positives\" = nombre d'éléments de la classe $k$ qui ont effectivement bien été prédits dans la classe $k$, et FP = \"false positives\" = nombre d'éléments qui n'étaient pas de la classe $k$ mais qui ont à tort été prédits en classe $k$. La précision est donc le rapport entre le nombre d'éléments correctement prédits comme classe $k$ et le nombre d'éléments total prédit comme $k$. Elle correspond à la pertinence de l'information remontée, mais ne s'intéresse pas à la quantité d'informations remontée : on aura peut être raté certains exemples de la classe $k$, qui auront été prédit dans une autre classe, mais tout ce qui a été prédit en classe $k$ est effectivement de la classe $k$, et donc pertinent.\n",
    " \n",
    " \n",
    " - recall : il est définit par $r = \\frac{TP}{TP+FN}$ où TP = \"true positives\" = nombre d'éléments de la classe $k$ qui ont effectivement bien été prédit dans la classe $k$, et FN = \"false negatives\" = nombre d'éléments qui étaient vraiment de la classe $k$ mais qui ont été prédit comme une autre classe. Le rappel est donc le rapport entre le nombre d'éléments correctement prédits comme classe $k$ et le nombre total d'éléments qui sont vraiment de la classe $k$ et qui auraient dû être prédits en $k$. Cela correspond à la quantité d'information effectivement remontée : même si l'on fait beaucoup d'erreur en prédisant en classe $k$ des exemples qui n'appartiennent pas à cette classe, on n'aura raté aucun exemple de la classe $k$.\n",
    " \n",
    " \n",
    " - f1-score : le f1-score est la moyenne harmonique de la précision et du rappel, et il baisse si l'une des deux mesures baisse. On pourra retenir $f1 = 2 \\frac{p \\times r }{p+r}$. Toutes ces mesures valent pour une classe donnée $k$. Pour en faire une mesure globale, on peut moyenner les précisions / rappels pour chacune des classes (c'est le macro average), ou pondérer cette moyenne par la taille du support (weighted avg).\n",
    "\n",
    "- accuracy, qui est une mesure globale qui correspond au nombre moyen d'exemples correctement prédits. C'est la mesure la plus simple, mais attention, la plus trompeuse lorsqu'il y a beaucoup de classes dans un modèle \n"
   ]
  },
  {
   "cell_type": "markdown",
   "metadata": {},
   "source": [
    "### Pour Aller plus loin "
   ]
  },
  {
   "cell_type": "markdown",
   "metadata": {},
   "source": [
    "Modification des paramètres d’apprentissage\n",
    "\n",
    "Notre arbre paraît tout de même surdimensionné. En effet on remarque   que plusieurs feuilles issues du même sommet père portent  des conclusions identiques. L'idée est donc d'introduire  un nouveau paramètre pour réduire la taille de l’arbre.\n",
    "On peut spécifier le nombre de noeud (max_leaf_nodes = 3) c.-à-d. dans notre cas un arbre qui produit 3 règles au maximum. Dixit  la méthode qui suit effectue en priorité les segmentations qui maximisent les contributions.\n"
   ]
  },
  {
   "cell_type": "code",
   "execution_count": null,
   "metadata": {},
   "outputs": [
    {
     "ename": "SyntaxError",
     "evalue": "invalid syntax (3600798431.py, line 2)",
     "output_type": "error",
     "traceback": [
      "\u001b[1;36m  Input \u001b[1;32mIn [107]\u001b[1;36m\u001b[0m\n\u001b[1;33m    cls2 =\u001b[0m\n\u001b[1;37m           ^\u001b[0m\n\u001b[1;31mSyntaxError\u001b[0m\u001b[1;31m:\u001b[0m invalid syntax\n"
     ]
    }
   ],
   "source": [
    "#modifions les paramètres d'apprentissage\n",
    "cls2 = \n",
    "#construction de l'arbre\n",
    "\n",
    "#affichage graphique de l'arbre\n"
   ]
  },
  {
   "cell_type": "markdown",
   "metadata": {},
   "source": [
    "L’arbre est fortement simplifié et maintient ses qualités prédictives ! Vérifions le :\n"
   ]
  },
  {
   "cell_type": "code",
   "execution_count": null,
   "metadata": {},
   "outputs": [
    {
     "name": "stdout",
     "output_type": "stream",
     "text": [
      "[[180  16]\n",
      " [ 10  94]]\n"
     ]
    }
   ],
   "source": [
    "#prédiction sur l'échantillon test\n",
    "\n",
    "#matrice de confusion\n"
   ]
  },
  {
   "cell_type": "markdown",
   "metadata": {},
   "source": [
    "Conclure en comparant les deux matrices de confusion."
   ]
  },
  {
   "cell_type": "markdown",
   "metadata": {},
   "source": []
  }
 ],
 "metadata": {
  "kernelspec": {
   "display_name": "Python 3",
   "language": "python",
   "name": "python3"
  },
  "language_info": {
   "codemirror_mode": {
    "name": "ipython",
    "version": 3
   },
   "file_extension": ".py",
   "mimetype": "text/x-python",
   "name": "python",
   "nbconvert_exporter": "python",
   "pygments_lexer": "ipython3",
   "version": "3.10.1"
  }
 },
 "nbformat": 4,
 "nbformat_minor": 2
}
