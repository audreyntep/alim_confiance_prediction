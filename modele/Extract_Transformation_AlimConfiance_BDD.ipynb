{
 "cells": [
  {
   "cell_type": "markdown",
   "metadata": {},
   "source": [
    "### AlimConfiance Groupe 4 : Audrey, Jaufret, Babacar"
   ]
  },
  {
   "cell_type": "markdown",
   "metadata": {},
   "source": [
    "## Extract_Transformation_AlimConfiance BDD"
   ]
  },
  {
   "cell_type": "markdown",
   "metadata": {},
   "source": [
    "1. Importation des librairies et du dataset"
   ]
  },
  {
   "cell_type": "code",
   "execution_count": 1,
   "metadata": {},
   "outputs": [
    {
     "name": "stdout",
     "output_type": "stream",
     "text": [
      "\n",
      "Connecting to the PostgreSQL database...\n",
      "Connection successful\n",
      "\n",
      "\n",
      "Query successful: select e.id_etablissement, da.id_activite, ta.id_type_activite, e.code_postal, e.agrement, nh.id_hygiene from etablissement e inner join concerne co on e.id_etablissement=co.id_etablissement inner join domaine_activite da on co.id_activite=da.id_activite inner join cible ci on co.id_etablissement=ci.id_etablissement inner join type_activite ta on ci.id_type_activite=ta.id_type_activite inner join inspecte i on e.id_etablissement=i.id_etablissement inner join niveau_hygiene nh on nh.id_hygiene=i.id_hygiene; \n",
      "\n"
     ]
    },
    {
     "data": {
      "text/html": [
       "<div>\n",
       "<style scoped>\n",
       "    .dataframe tbody tr th:only-of-type {\n",
       "        vertical-align: middle;\n",
       "    }\n",
       "\n",
       "    .dataframe tbody tr th {\n",
       "        vertical-align: top;\n",
       "    }\n",
       "\n",
       "    .dataframe thead th {\n",
       "        text-align: right;\n",
       "    }\n",
       "</style>\n",
       "<table border=\"1\" class=\"dataframe\">\n",
       "  <thead>\n",
       "    <tr style=\"text-align: right;\">\n",
       "      <th></th>\n",
       "      <th>id_etablissement</th>\n",
       "      <th>id_activite</th>\n",
       "      <th>id_type_activite</th>\n",
       "      <th>code_postal</th>\n",
       "      <th>agrement</th>\n",
       "      <th>niveau_hygiene</th>\n",
       "    </tr>\n",
       "  </thead>\n",
       "  <tbody>\n",
       "    <tr>\n",
       "      <th>0</th>\n",
       "      <td>0</td>\n",
       "      <td>0</td>\n",
       "      <td>0</td>\n",
       "      <td>92240</td>\n",
       "      <td></td>\n",
       "      <td>0</td>\n",
       "    </tr>\n",
       "    <tr>\n",
       "      <th>1</th>\n",
       "      <td>0</td>\n",
       "      <td>19</td>\n",
       "      <td>0</td>\n",
       "      <td>92240</td>\n",
       "      <td></td>\n",
       "      <td>0</td>\n",
       "    </tr>\n",
       "    <tr>\n",
       "      <th>2</th>\n",
       "      <td>0</td>\n",
       "      <td>31</td>\n",
       "      <td>0</td>\n",
       "      <td>92240</td>\n",
       "      <td></td>\n",
       "      <td>0</td>\n",
       "    </tr>\n",
       "    <tr>\n",
       "      <th>3</th>\n",
       "      <td>1</td>\n",
       "      <td>1</td>\n",
       "      <td>0</td>\n",
       "      <td>69500</td>\n",
       "      <td></td>\n",
       "      <td>1</td>\n",
       "    </tr>\n",
       "    <tr>\n",
       "      <th>4</th>\n",
       "      <td>0</td>\n",
       "      <td>0</td>\n",
       "      <td>0</td>\n",
       "      <td>92240</td>\n",
       "      <td></td>\n",
       "      <td>1</td>\n",
       "    </tr>\n",
       "  </tbody>\n",
       "</table>\n",
       "</div>"
      ],
      "text/plain": [
       "   id_etablissement  id_activite  id_type_activite code_postal agrement  \\\n",
       "0                 0            0                 0       92240            \n",
       "1                 0           19                 0       92240            \n",
       "2                 0           31                 0       92240            \n",
       "3                 1            1                 0       69500            \n",
       "4                 0            0                 0       92240            \n",
       "\n",
       "   niveau_hygiene  \n",
       "0               0  \n",
       "1               0  \n",
       "2               0  \n",
       "3               1  \n",
       "4               1  "
      ]
     },
     "execution_count": 1,
     "metadata": {},
     "output_type": "execute_result"
    }
   ],
   "source": [
    "#Importation des librairies\n",
    "import numpy as np\n",
    "import seaborn as sns\n",
    "import matplotlib.pyplot as plt\n",
    "import pandas as pd\n",
    "import sklearn\n",
    "from IPython.display import display\n",
    "from sklearn import preprocessing\n",
    "\n",
    "# Importation du dataset depuis bdd dans Jupyter Notebook\n",
    "import os\n",
    "import sys\n",
    "module_path = os.path.abspath(os.path.join('..'))\n",
    "if module_path not in sys.path:\n",
    "    sys.path.append(module_path)\n",
    "from database.Classes import Connection\n",
    "\n",
    "db = Connection.connection_to_database()\n",
    "requete_libelle = 'select e.id_etablissement, e.libelle, da.libelle_activite, ta.type_activite, e.code_postal, e.agrement, nh.niveau_hygiene from etablissement e inner join concerne co on e.id_etablissement=co.id_etablissement inner join domaine_activite da on co.id_activite=da.id_activite inner join cible ci on co.id_etablissement=ci.id_etablissement inner join type_activite ta on ci.id_type_activite=ta.id_type_activite inner join inspecte i on e.id_etablissement=i.id_etablissement inner join niveau_hygiene nh on nh.id_hygiene=i.id_hygiene;'\n",
    "requete_id = 'select e.id_etablissement, da.id_activite, ta.id_type_activite, e.code_postal, e.agrement, nh.id_hygiene from etablissement e inner join concerne co on e.id_etablissement=co.id_etablissement inner join domaine_activite da on co.id_activite=da.id_activite inner join cible ci on co.id_etablissement=ci.id_etablissement inner join type_activite ta on ci.id_type_activite=ta.id_type_activite inner join inspecte i on e.id_etablissement=i.id_etablissement inner join niveau_hygiene nh on nh.id_hygiene=i.id_hygiene;'\n",
    "\n",
    "dataset = Connection.query_all(db, requete_id) \n",
    "df = pd.DataFrame(dataset, columns=['id_etablissement','id_activite', 'id_type_activite', 'code_postal','agrement','niveau_hygiene'])\n",
    "\n",
    "# Affichage des données\n",
    "df.head()"
   ]
  },
  {
   "cell_type": "markdown",
   "metadata": {},
   "source": [
    "2. Affichage des informations descriptives relatives aux variables"
   ]
  },
  {
   "cell_type": "code",
   "execution_count": 2,
   "metadata": {},
   "outputs": [
    {
     "name": "stdout",
     "output_type": "stream",
     "text": [
      "<class 'pandas.core.frame.DataFrame'>\n",
      "RangeIndex: 84257 entries, 0 to 84256\n",
      "Data columns (total 6 columns):\n",
      " #   Column            Non-Null Count  Dtype \n",
      "---  ------            --------------  ----- \n",
      " 0   id_etablissement  84257 non-null  int64 \n",
      " 1   id_activite       84257 non-null  int64 \n",
      " 2   id_type_activite  84257 non-null  int64 \n",
      " 3   code_postal       84257 non-null  object\n",
      " 4   agrement          84257 non-null  object\n",
      " 5   niveau_hygiene    84257 non-null  int64 \n",
      "dtypes: int64(4), object(2)\n",
      "memory usage: 3.9+ MB\n"
     ]
    }
   ],
   "source": [
    "df.info()"
   ]
  },
  {
   "cell_type": "markdown",
   "metadata": {},
   "source": [
    "3. Supression des colonnes jugées non pertinantes"
   ]
  },
  {
   "cell_type": "markdown",
   "metadata": {},
   "source": [
    "3. Conversion des valeurs"
   ]
  },
  {
   "cell_type": "code",
   "execution_count": 6,
   "metadata": {},
   "outputs": [
    {
     "data": {
      "text/html": [
       "<div>\n",
       "<style scoped>\n",
       "    .dataframe tbody tr th:only-of-type {\n",
       "        vertical-align: middle;\n",
       "    }\n",
       "\n",
       "    .dataframe tbody tr th {\n",
       "        vertical-align: top;\n",
       "    }\n",
       "\n",
       "    .dataframe thead th {\n",
       "        text-align: right;\n",
       "    }\n",
       "</style>\n",
       "<table border=\"1\" class=\"dataframe\">\n",
       "  <thead>\n",
       "    <tr style=\"text-align: right;\">\n",
       "      <th></th>\n",
       "      <th>id_etablissement</th>\n",
       "      <th>id_activite</th>\n",
       "      <th>id_type_activite</th>\n",
       "      <th>code_postal</th>\n",
       "      <th>agrement</th>\n",
       "      <th>niveau_hygiene</th>\n",
       "    </tr>\n",
       "  </thead>\n",
       "  <tbody>\n",
       "    <tr>\n",
       "      <th>0</th>\n",
       "      <td>0</td>\n",
       "      <td>0</td>\n",
       "      <td>0</td>\n",
       "      <td>92</td>\n",
       "      <td>1</td>\n",
       "      <td>0</td>\n",
       "    </tr>\n",
       "    <tr>\n",
       "      <th>1</th>\n",
       "      <td>0</td>\n",
       "      <td>19</td>\n",
       "      <td>0</td>\n",
       "      <td>92</td>\n",
       "      <td>1</td>\n",
       "      <td>0</td>\n",
       "    </tr>\n",
       "    <tr>\n",
       "      <th>2</th>\n",
       "      <td>0</td>\n",
       "      <td>31</td>\n",
       "      <td>0</td>\n",
       "      <td>92</td>\n",
       "      <td>1</td>\n",
       "      <td>0</td>\n",
       "    </tr>\n",
       "    <tr>\n",
       "      <th>3</th>\n",
       "      <td>1</td>\n",
       "      <td>1</td>\n",
       "      <td>0</td>\n",
       "      <td>69</td>\n",
       "      <td>1</td>\n",
       "      <td>1</td>\n",
       "    </tr>\n",
       "    <tr>\n",
       "      <th>4</th>\n",
       "      <td>0</td>\n",
       "      <td>0</td>\n",
       "      <td>0</td>\n",
       "      <td>92</td>\n",
       "      <td>1</td>\n",
       "      <td>1</td>\n",
       "    </tr>\n",
       "  </tbody>\n",
       "</table>\n",
       "</div>"
      ],
      "text/plain": [
       "   id_etablissement  id_activite  id_type_activite  code_postal  agrement  \\\n",
       "0                 0            0                 0           92         1   \n",
       "1                 0           19                 0           92         1   \n",
       "2                 0           31                 0           92         1   \n",
       "3                 1            1                 0           69         1   \n",
       "4                 0            0                 0           92         1   \n",
       "\n",
       "   niveau_hygiene  \n",
       "0               0  \n",
       "1               0  \n",
       "2               0  \n",
       "3               1  \n",
       "4               1  "
      ]
     },
     "execution_count": 6,
     "metadata": {},
     "output_type": "execute_result"
    }
   ],
   "source": [
    "# code_postal\n",
    "# Récupération du département dans le code postal (suppression des 3 dernier chiffres)\n",
    "df['code_postal'] = df['code_postal'].apply(lambda x: str(x)[:2])\n",
    "df['code_postal'] = df['code_postal'].astype(int)\n",
    "\n",
    "# agrement\n",
    "# Remplace les valeurs abs par des 0 dans la colonne\n",
    "df['agrement'] = df['agrement'].fillna(0)\n",
    "# Change le type de données en string (passage obligatoire car présence de lettre dans les agréments)\n",
    "df['agrement']=df['agrement'].astype(str)\n",
    "# Remplace les valeurs autre que 0 par 1 et converti la colonne en int\n",
    "df['agrement'] = (df['agrement'] != 0).astype(int)\n",
    "\n",
    "# Verifications\n",
    "df.head()\n"
   ]
  },
  {
   "cell_type": "code",
   "execution_count": 7,
   "metadata": {},
   "outputs": [],
   "source": [
    "SAVE_CSV_FILEPATH =(r\"C:\\Users\\diaba\\Documents\\SimplonIAMicrosoft_21-23\\AlimConfiance\\IASecuAlim\\modele\\data\\clean\\AlimConfiance_BDD_Clean.csv\")\n",
    "\n",
    "df.to_csv(path_or_buf=SAVE_CSV_FILEPATH, sep=';', index=False)\n"
   ]
  }
 ],
 "metadata": {
  "kernelspec": {
   "display_name": "Python 3",
   "language": "python",
   "name": "python3"
  },
  "language_info": {
   "codemirror_mode": {
    "name": "ipython",
    "version": 3
   },
   "file_extension": ".py",
   "mimetype": "text/x-python",
   "name": "python",
   "nbconvert_exporter": "python",
   "pygments_lexer": "ipython3",
   "version": "3.10.1"
  }
 },
 "nbformat": 4,
 "nbformat_minor": 2
}
