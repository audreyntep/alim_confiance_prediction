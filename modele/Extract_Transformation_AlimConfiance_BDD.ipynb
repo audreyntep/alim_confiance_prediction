{
 "cells": [
  {
   "cell_type": "markdown",
   "metadata": {},
   "source": [
    "### AlimConfiance Groupe 4 : Audrey, Jaufret, Babacar"
   ]
  },
  {
   "cell_type": "markdown",
   "metadata": {},
   "source": [
    "## Extract_Transformation_AlimConfiance"
   ]
  },
  {
   "cell_type": "markdown",
   "metadata": {},
   "source": [
    "1. Importation des librairies et du dataset"
   ]
  },
  {
   "cell_type": "code",
   "execution_count": 4,
   "metadata": {},
   "outputs": [
    {
     "data": {
      "text/html": [
       "<div>\n",
       "<style scoped>\n",
       "    .dataframe tbody tr th:only-of-type {\n",
       "        vertical-align: middle;\n",
       "    }\n",
       "\n",
       "    .dataframe tbody tr th {\n",
       "        vertical-align: top;\n",
       "    }\n",
       "\n",
       "    .dataframe thead th {\n",
       "        text-align: right;\n",
       "    }\n",
       "</style>\n",
       "<table border=\"1\" class=\"dataframe\">\n",
       "  <thead>\n",
       "    <tr style=\"text-align: right;\">\n",
       "      <th></th>\n",
       "      <th>APP_Libelle_etablissement</th>\n",
       "      <th>SIRET</th>\n",
       "      <th>Adresse_2_UA</th>\n",
       "      <th>Code_postal</th>\n",
       "      <th>Libelle_commune</th>\n",
       "      <th>Numero_inspection</th>\n",
       "      <th>Date_inspection</th>\n",
       "      <th>APP_Libelle_activite_etablissement</th>\n",
       "      <th>Synthese_eval_sanit</th>\n",
       "      <th>Agrement</th>\n",
       "      <th>geores</th>\n",
       "      <th>filtre</th>\n",
       "      <th>ods_type_activite</th>\n",
       "    </tr>\n",
       "  </thead>\n",
       "  <tbody>\n",
       "    <tr>\n",
       "      <th>0</th>\n",
       "      <td>NATURALIA FRANCE (NATURALIA FRANCE)</td>\n",
       "      <td>30247464800789</td>\n",
       "      <td>45 AV PIERRE LAROUSSE</td>\n",
       "      <td>92240</td>\n",
       "      <td>MALAKOFF</td>\n",
       "      <td>15914760</td>\n",
       "      <td>2021-03-03T01:00:00+01:00</td>\n",
       "      <td>Alimentation générale</td>\n",
       "      <td>Satisfaisant</td>\n",
       "      <td>NaN</td>\n",
       "      <td>48.822231,2.303769</td>\n",
       "      <td>Alimentation générale</td>\n",
       "      <td>Autres</td>\n",
       "    </tr>\n",
       "    <tr>\n",
       "      <th>1</th>\n",
       "      <td>KERMOYAN (RESTAU RAPIDE)</td>\n",
       "      <td>30112032500024</td>\n",
       "      <td>MARCHE</td>\n",
       "      <td>69500</td>\n",
       "      <td>BRON</td>\n",
       "      <td>16252422</td>\n",
       "      <td>2021-11-26T01:00:00+01:00</td>\n",
       "      <td>Restaurant</td>\n",
       "      <td>Très satisfaisant</td>\n",
       "      <td>NaN</td>\n",
       "      <td>45.743534,4.922893</td>\n",
       "      <td>Restaurant</td>\n",
       "      <td>Autres</td>\n",
       "    </tr>\n",
       "    <tr>\n",
       "      <th>2</th>\n",
       "      <td>NATURALIA (NATURALIA FRANCE)</td>\n",
       "      <td>30247464801894</td>\n",
       "      <td>36 RUE EUGENE EICHENBERGER</td>\n",
       "      <td>92800</td>\n",
       "      <td>PUTEAUX</td>\n",
       "      <td>15903092</td>\n",
       "      <td>2021-02-22T01:00:00+01:00</td>\n",
       "      <td>Alimentation générale</td>\n",
       "      <td>Très satisfaisant</td>\n",
       "      <td>NaN</td>\n",
       "      <td>48.881317,2.23746</td>\n",
       "      <td>Alimentation générale</td>\n",
       "      <td>Autres</td>\n",
       "    </tr>\n",
       "    <tr>\n",
       "      <th>3</th>\n",
       "      <td>JARDINERIE DE CHEVREUSE (JARDINERIE DE CHEVREUSE)</td>\n",
       "      <td>30890741900011</td>\n",
       "      <td>LE BREUIL</td>\n",
       "      <td>78460</td>\n",
       "      <td>CHEVREUSE</td>\n",
       "      <td>15901554</td>\n",
       "      <td>2021-02-19T01:00:00+01:00</td>\n",
       "      <td>_</td>\n",
       "      <td>Satisfaisant</td>\n",
       "      <td>NaN</td>\n",
       "      <td>48.698235,2.027014</td>\n",
       "      <td>NaN</td>\n",
       "      <td>Autres</td>\n",
       "    </tr>\n",
       "    <tr>\n",
       "      <th>4</th>\n",
       "      <td>INTERMARCHE (VIRODIS)</td>\n",
       "      <td>30668909200022</td>\n",
       "      <td>38 AV LE FOLL</td>\n",
       "      <td>94290</td>\n",
       "      <td>VILLENEUVE LE ROI</td>\n",
       "      <td>15968279</td>\n",
       "      <td>2021-04-14T02:00:00+02:00</td>\n",
       "      <td>Alimentation générale</td>\n",
       "      <td>Satisfaisant</td>\n",
       "      <td>NaN</td>\n",
       "      <td>48.730573,2.426559</td>\n",
       "      <td>Alimentation générale</td>\n",
       "      <td>Autres</td>\n",
       "    </tr>\n",
       "  </tbody>\n",
       "</table>\n",
       "</div>"
      ],
      "text/plain": [
       "                           APP_Libelle_etablissement           SIRET  \\\n",
       "0                NATURALIA FRANCE (NATURALIA FRANCE)  30247464800789   \n",
       "1                           KERMOYAN (RESTAU RAPIDE)  30112032500024   \n",
       "2                       NATURALIA (NATURALIA FRANCE)  30247464801894   \n",
       "3  JARDINERIE DE CHEVREUSE (JARDINERIE DE CHEVREUSE)  30890741900011   \n",
       "4                              INTERMARCHE (VIRODIS)  30668909200022   \n",
       "\n",
       "                 Adresse_2_UA Code_postal    Libelle_commune  \\\n",
       "0       45 AV PIERRE LAROUSSE       92240           MALAKOFF   \n",
       "1                      MARCHE       69500               BRON   \n",
       "2  36 RUE EUGENE EICHENBERGER       92800            PUTEAUX   \n",
       "3                   LE BREUIL       78460          CHEVREUSE   \n",
       "4               38 AV LE FOLL       94290  VILLENEUVE LE ROI   \n",
       "\n",
       "  Numero_inspection            Date_inspection  \\\n",
       "0          15914760  2021-03-03T01:00:00+01:00   \n",
       "1          16252422  2021-11-26T01:00:00+01:00   \n",
       "2          15903092  2021-02-22T01:00:00+01:00   \n",
       "3          15901554  2021-02-19T01:00:00+01:00   \n",
       "4          15968279  2021-04-14T02:00:00+02:00   \n",
       "\n",
       "  APP_Libelle_activite_etablissement Synthese_eval_sanit Agrement  \\\n",
       "0              Alimentation générale        Satisfaisant      NaN   \n",
       "1                         Restaurant   Très satisfaisant      NaN   \n",
       "2              Alimentation générale   Très satisfaisant      NaN   \n",
       "3                                  _        Satisfaisant      NaN   \n",
       "4              Alimentation générale        Satisfaisant      NaN   \n",
       "\n",
       "               geores                 filtre ods_type_activite  \n",
       "0  48.822231,2.303769  Alimentation générale            Autres  \n",
       "1  45.743534,4.922893             Restaurant            Autres  \n",
       "2   48.881317,2.23746  Alimentation générale            Autres  \n",
       "3  48.698235,2.027014                    NaN            Autres  \n",
       "4  48.730573,2.426559  Alimentation générale            Autres  "
      ]
     },
     "execution_count": 4,
     "metadata": {},
     "output_type": "execute_result"
    }
   ],
   "source": [
    "#Importation des librairies\n",
    "import numpy as np\n",
    "import seaborn as sns\n",
    "import matplotlib.pyplot as plt\n",
    "import pandas as pd\n",
    "import sklearn\n",
    "from IPython.display import display\n",
    "from sklearn import preprocessing\n",
    "\n",
    "# Importation du dataset\n",
    "export_alim_path=r'C:\\Users\\diaba\\Documents\\SimplonIAMicrosoft_21-23\\AlimConfiance\\export_alimconfiance.csv'\n",
    "df=pd.read_csv(export_alim_path, sep=\";\")\n",
    "\n",
    "# Affichage des données\n",
    "df.head()"
   ]
  },
  {
   "cell_type": "markdown",
   "metadata": {},
   "source": [
    "2. Affichage des informations descriptives relatives aux variables"
   ]
  },
  {
   "cell_type": "code",
   "execution_count": 28,
   "metadata": {},
   "outputs": [
    {
     "name": "stdout",
     "output_type": "stream",
     "text": [
      "<class 'pandas.core.frame.DataFrame'>\n",
      "RangeIndex: 35662 entries, 0 to 35661\n",
      "Data columns (total 13 columns):\n",
      " #   Column                              Non-Null Count  Dtype \n",
      "---  ------                              --------------  ----- \n",
      " 0   APP_Libelle_etablissement           35662 non-null  object\n",
      " 1   SIRET                               35662 non-null  object\n",
      " 2   Adresse_2_UA                        35211 non-null  object\n",
      " 3   Code_postal                         35662 non-null  object\n",
      " 4   Libelle_commune                     35662 non-null  object\n",
      " 5   Numero_inspection                   35662 non-null  object\n",
      " 6   Date_inspection                     35662 non-null  object\n",
      " 7   APP_Libelle_activite_etablissement  35662 non-null  object\n",
      " 8   Synthese_eval_sanit                 35662 non-null  object\n",
      " 9   Agrement                            9840 non-null   object\n",
      " 10  geores                              34563 non-null  object\n",
      " 11  filtre                              25999 non-null  object\n",
      " 12  ods_type_activite                   35662 non-null  object\n",
      "dtypes: object(13)\n",
      "memory usage: 3.5+ MB\n"
     ]
    }
   ],
   "source": [
    "df.info()"
   ]
  },
  {
   "cell_type": "markdown",
   "metadata": {},
   "source": [
    "3. Supression des colonnes jugées non pertinantes"
   ]
  },
  {
   "cell_type": "code",
   "execution_count": 5,
   "metadata": {},
   "outputs": [
    {
     "name": "stdout",
     "output_type": "stream",
     "text": [
      "<class 'pandas.core.frame.DataFrame'>\n",
      "RangeIndex: 35662 entries, 0 to 35661\n",
      "Data columns (total 6 columns):\n",
      " #   Column                              Non-Null Count  Dtype \n",
      "---  ------                              --------------  ----- \n",
      " 0   SIRET                               35662 non-null  object\n",
      " 1   Code_postal                         35662 non-null  object\n",
      " 2   APP_Libelle_activite_etablissement  35662 non-null  object\n",
      " 3   Synthese_eval_sanit                 35662 non-null  object\n",
      " 4   Agrement                            9840 non-null   object\n",
      " 5   ods_type_activite                   35662 non-null  object\n",
      "dtypes: object(6)\n",
      "memory usage: 1.6+ MB\n"
     ]
    }
   ],
   "source": [
    "# Suppression des colonnes\n",
    "df. drop(['APP_Libelle_etablissement', 'Adresse_2_UA', 'Libelle_commune', 'Numero_inspection','Date_inspection','geores', 'filtre'], axis = 1, inplace = True)\n",
    "#Affichage des colonnes restantes\n",
    "#On peut remarquer que toutes les valeurs sont non-null mise à part dans la colonne Agrement\n",
    "df.info()"
   ]
  },
  {
   "cell_type": "markdown",
   "metadata": {},
   "source": [
    "4. Conversion des valeurs"
   ]
  },
  {
   "cell_type": "code",
   "execution_count": 6,
   "metadata": {},
   "outputs": [
    {
     "name": "stdout",
     "output_type": "stream",
     "text": [
      "<class 'pandas.core.frame.DataFrame'>\n",
      "Int64Index: 35435 entries, 0 to 35661\n",
      "Data columns (total 9 columns):\n",
      " #   Column                                             Non-Null Count  Dtype \n",
      "---  ------                                             --------------  ----- \n",
      " 0   SIRET                                              35435 non-null  int64 \n",
      " 1   Code_postal                                        35435 non-null  int32 \n",
      " 2   APP_Libelle_activite_etablissement                 35435 non-null  object\n",
      " 3   Agrement                                           35435 non-null  int32 \n",
      " 4   ods_type_activite                                  35435 non-null  object\n",
      " 5   Synthese_eval_sanit_A améliorer                    35435 non-null  uint8 \n",
      " 6   Synthese_eval_sanit_A corriger de manière urgente  35435 non-null  uint8 \n",
      " 7   Synthese_eval_sanit_Satisfaisant                   35435 non-null  uint8 \n",
      " 8   Synthese_eval_sanit_Très satisfaisant              35435 non-null  uint8 \n",
      "dtypes: int32(2), int64(1), object(2), uint8(4)\n",
      "memory usage: 1.5+ MB\n"
     ]
    },
    {
     "name": "stderr",
     "output_type": "stream",
     "text": [
      "c:\\Users\\diaba\\Documents\\SimplonIAMicrosoft_21-23\\AlimConfiance\\IASecuAlim\\venv\\lib\\site-packages\\sklearn\\preprocessing\\_label.py:115: DataConversionWarning: A column-vector y was passed when a 1d array was expected. Please change the shape of y to (n_samples, ), for example using ravel().\n",
      "  y = column_or_1d(y, warn=True)\n"
     ]
    }
   ],
   "source": [
    "# SIRET\n",
    "df.drop(df[df['SIRET'].str.contains(\"^[a-z].*$\", regex=True, case=False)].index, inplace=True)\n",
    "df['SIRET']=df['SIRET'].astype('int64')\n",
    "\n",
    "# Code_postal\n",
    "# Récupération du département dans le code postal (suppression des 3 dernier chiffres)\n",
    "df['Code_postal'] = df['Code_postal'].apply(lambda x: str(x)[:2])\n",
    "df['Code_postal'] = df['Code_postal'].astype(int)\n",
    "\n",
    "# Agrement\n",
    "# Remplace les valeurs abs par des 0 dans la colonne\n",
    "df['Agrement'] = df['Agrement'].fillna(0)\n",
    "# Change le type de données en string (passage obligatoire car présence de lettre dans les agréments)\n",
    "df['Agrement']=df['Agrement'].astype(str)\n",
    "# Remplace les valeurs autre que 0 par 1 et converti la colonne en int\n",
    "df['Agrement'] = (df['Agrement'] != 0).astype(int)\n",
    "\n",
    "# Synthese_eval_sanit\n",
    "#Transformation de la colonne Synthese_eval_sanit grâce à get_dummies\n",
    "# Répartition des différents niveaux d'hygiene dans 4 colonnes\n",
    "df = pd.get_dummies(df, columns=['Synthese_eval_sanit'])\n",
    "\n",
    "\n",
    "# Mise en forme de la colonne libelle_activite\n",
    "# Suppression des lignes avec libelles manquants\n",
    "df.drop(df[df['APP_Libelle_activite_etablissement'].str.contains(\"_\")==True].index, inplace=True)\n",
    "\n",
    "# sépérations des libelles d'activités\n",
    "df_libelle = df['APP_Libelle_activite_etablissement']\n",
    "delimiter = '|'\n",
    "df_length = len(df_libelle)\n",
    "s = []\n",
    "for i in range(0, df_length):\n",
    "    row = df_libelle.iloc[i]\n",
    "    lib_activite = row.split(delimiter)\n",
    "    s = s + lib_activite\n",
    "d = {'APP_Libelle_activite_etablissement': s}\n",
    "df_libelle = pd.DataFrame(data=d)\n",
    "df_libelle.drop_duplicates(subset=['APP_Libelle_activite_etablissement'], keep='first', ignore_index=True ,inplace=True)\n",
    "\n",
    "#Application d'un labelEncoder sur le df_libelle \n",
    "le = preprocessing.LabelEncoder()\n",
    "\n",
    "df_libelle.astype(str)\n",
    "df_libelle_fit=le.fit_transform(df_libelle)\n",
    "df_libelle_fit=pd.DataFrame(df_libelle_fit, columns=['LabelEncoder'])\n",
    "df_libelle=pd.concat([df_libelle,df_libelle_fit], axis=1)\n",
    "\n",
    "#Mise en forme de la colonne ods_type_activite\n",
    "# df_type_activite=(df['ods_type_activite'].astype(str)).drop_duplicates()\n",
    "# df_type_activite_fit=le.fit_transform(df_type_activite)\n",
    "# df_type_activite_fit=pd.DataFrame(df_type_activite_fit, columns=['LabelEncoder'])\n",
    "# df_type_activite=pd.concat([df_type_activite,df_type_activite_fit], axis=1)\n",
    "# print(df_type_activite.head())\n",
    "\n",
    "# Verifications\n",
    "df.info()\n"
   ]
  },
  {
   "cell_type": "code",
   "execution_count": 8,
   "metadata": {},
   "outputs": [],
   "source": [
    "SAVE_CSV_FILEPATH =(r\"C:\\Users\\diaba\\Documents\\SimplonIAMicrosoft_21-23\\AlimConfiance\\AlimConfiance_Clean.csv\")\n",
    "\n",
    "df.to_csv(path_or_buf=SAVE_CSV_FILEPATH, sep=';', index=False)\n"
   ]
  }
 ],
 "metadata": {
  "kernelspec": {
   "display_name": "Python 3",
   "language": "python",
   "name": "python3"
  },
  "language_info": {
   "codemirror_mode": {
    "name": "ipython",
    "version": 3
   },
   "file_extension": ".py",
   "mimetype": "text/x-python",
   "name": "python",
   "nbconvert_exporter": "python",
   "pygments_lexer": "ipython3",
   "version": "3.10.1"
  }
 },
 "nbformat": 4,
 "nbformat_minor": 2
}
