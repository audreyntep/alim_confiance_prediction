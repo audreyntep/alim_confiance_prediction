{
 "cells": [
  {
   "cell_type": "markdown",
   "metadata": {},
   "source": [
    "#  REGRESSION LOGISTIQUE"
   ]
  },
  {
   "cell_type": "markdown",
   "metadata": {},
   "source": [
    "# Introduction"
   ]
  },
  {
   "cell_type": "markdown",
   "metadata": {},
   "source": [
    "Dans cet exercice guidé nous allons pratiquer la régression logistique sous Python via les packages « statsmodels » et « scikit-learn ».\n",
    "\n",
    "Nous tâcherons de décrire les différentes étapes de la construction du modèle à son évaluation et la mesure de ses performances prédictives."
   ]
  },
  {
   "cell_type": "markdown",
   "metadata": {},
   "source": [
    "# A. Utilisation du package scikit-learn"
   ]
  },
  {
   "cell_type": "markdown",
   "metadata": {
    "colab_type": "text",
    "id": "LWd1UlMnhT2s"
   },
   "source": [
    "## 1. Import des librairies"
   ]
  },
  {
   "cell_type": "markdown",
   "metadata": {},
   "source": [
    "\n",
    "Pour commencer nous allons utiliser uniquement le packages scikit-learn\n",
    "hormis les librairies classiques importez celle utilisée pour la regression logistique et celles pour les métriques necessaires (matrice de confusion, rapport des métriques)\n",
    "\n"
   ]
  },
  {
   "cell_type": "code",
   "execution_count": 109,
   "metadata": {
    "colab": {},
    "colab_type": "code",
    "id": "YvGPUQaHhXfL"
   },
   "outputs": [
    {
     "name": "stdout",
     "output_type": "stream",
     "text": [
      "1.0.1\n"
     ]
    }
   ],
   "source": [
    "# librairies classiques\n",
    "import pandas as pd\n",
    "import numpy as np\n",
    "\n",
    "# packages scikit-learn\n",
    "import sklearn\n",
    "from sklearn.linear_model import LogisticRegression\n",
    "from sklearn.metrics import classification_report, ConfusionMatrixDisplay\n",
    "from sklearn.model_selection import train_test_split\n",
    "print(sklearn.__version__)\n",
    "\n",
    "# packages visualisation\n",
    "import matplotlib.pyplot as plt\n",
    "from matplotlib.colors import ListedColormap\n",
    "from mpl_toolkits.mplot3d import Axes3D\n",
    "import seaborn as sns"
   ]
  },
  {
   "cell_type": "markdown",
   "metadata": {
    "colab_type": "text",
    "id": "K1VMqkGvhc3-"
   },
   "source": [
    "## 2. Import du dataset"
   ]
  },
  {
   "cell_type": "markdown",
   "metadata": {},
   "source": [
    "\n",
    "Nous analysons dans cet exercice les facteurs de risque d'infidélité dans les ménages. \n",
    "\n",
    "Nous verrons que le facteur temps est bien évidemment un paramètre qui joue en faveur de l'infidélité. \n",
    "\n",
    "Mais pas seulement, d'autres variables également."
   ]
  },
  {
   "cell_type": "code",
   "execution_count": 88,
   "metadata": {
    "colab": {},
    "colab_type": "code",
    "id": "M52QDmyzhh9s"
   },
   "outputs": [
    {
     "data": {
      "text/html": [
       "<div>\n",
       "<style scoped>\n",
       "    .dataframe tbody tr th:only-of-type {\n",
       "        vertical-align: middle;\n",
       "    }\n",
       "\n",
       "    .dataframe tbody tr th {\n",
       "        vertical-align: top;\n",
       "    }\n",
       "\n",
       "    .dataframe thead th {\n",
       "        text-align: right;\n",
       "    }\n",
       "</style>\n",
       "<table border=\"1\" class=\"dataframe\">\n",
       "  <thead>\n",
       "    <tr style=\"text-align: right;\">\n",
       "      <th></th>\n",
       "      <th>Sex</th>\n",
       "      <th>Age</th>\n",
       "      <th>YearsMarried</th>\n",
       "      <th>Children</th>\n",
       "      <th>Religious</th>\n",
       "      <th>Education</th>\n",
       "      <th>Occupation</th>\n",
       "      <th>RatingMarriage</th>\n",
       "      <th>Infidelite</th>\n",
       "    </tr>\n",
       "  </thead>\n",
       "  <tbody>\n",
       "    <tr>\n",
       "      <th>0</th>\n",
       "      <td>0</td>\n",
       "      <td>22.0</td>\n",
       "      <td>0.75</td>\n",
       "      <td>0</td>\n",
       "      <td>2</td>\n",
       "      <td>18</td>\n",
       "      <td>6</td>\n",
       "      <td>5</td>\n",
       "      <td>0</td>\n",
       "    </tr>\n",
       "    <tr>\n",
       "      <th>1</th>\n",
       "      <td>0</td>\n",
       "      <td>32.0</td>\n",
       "      <td>15.00</td>\n",
       "      <td>1</td>\n",
       "      <td>3</td>\n",
       "      <td>14</td>\n",
       "      <td>1</td>\n",
       "      <td>2</td>\n",
       "      <td>1</td>\n",
       "    </tr>\n",
       "    <tr>\n",
       "      <th>2</th>\n",
       "      <td>1</td>\n",
       "      <td>27.0</td>\n",
       "      <td>4.00</td>\n",
       "      <td>1</td>\n",
       "      <td>4</td>\n",
       "      <td>20</td>\n",
       "      <td>5</td>\n",
       "      <td>5</td>\n",
       "      <td>0</td>\n",
       "    </tr>\n",
       "    <tr>\n",
       "      <th>3</th>\n",
       "      <td>0</td>\n",
       "      <td>22.0</td>\n",
       "      <td>1.50</td>\n",
       "      <td>0</td>\n",
       "      <td>2</td>\n",
       "      <td>16</td>\n",
       "      <td>4</td>\n",
       "      <td>5</td>\n",
       "      <td>0</td>\n",
       "    </tr>\n",
       "    <tr>\n",
       "      <th>4</th>\n",
       "      <td>0</td>\n",
       "      <td>27.0</td>\n",
       "      <td>7.00</td>\n",
       "      <td>1</td>\n",
       "      <td>3</td>\n",
       "      <td>14</td>\n",
       "      <td>1</td>\n",
       "      <td>4</td>\n",
       "      <td>0</td>\n",
       "    </tr>\n",
       "  </tbody>\n",
       "</table>\n",
       "</div>"
      ],
      "text/plain": [
       "   Sex   Age  YearsMarried  Children  Religious  Education  Occupation  \\\n",
       "0    0  22.0          0.75         0          2         18           6   \n",
       "1    0  32.0         15.00         1          3         14           1   \n",
       "2    1  27.0          4.00         1          4         20           5   \n",
       "3    0  22.0          1.50         0          2         16           4   \n",
       "4    0  27.0          7.00         1          3         14           1   \n",
       "\n",
       "   RatingMarriage  Infidelite  \n",
       "0               5           0  \n",
       "1               2           1  \n",
       "2               5           0  \n",
       "3               5           0  \n",
       "4               4           0  "
      ]
     },
     "execution_count": 88,
     "metadata": {},
     "output_type": "execute_result"
    }
   ],
   "source": [
    "# importation du dataset\n",
    "dataset = pd.read_excel('./data/dataset_infidelites.xlsx')\n",
    "\n",
    "# visualisation du jeu de données\n",
    "dataset.head()"
   ]
  },
  {
   "cell_type": "markdown",
   "metadata": {},
   "source": [
    "## 3. Description et visualisation du dataset"
   ]
  },
  {
   "cell_type": "markdown",
   "metadata": {},
   "source": [
    "### 3.1 Description rapide du dataset"
   ]
  },
  {
   "cell_type": "code",
   "execution_count": 89,
   "metadata": {},
   "outputs": [
    {
     "name": "stdout",
     "output_type": "stream",
     "text": [
      "<class 'pandas.core.frame.DataFrame'>\n",
      "RangeIndex: 601 entries, 0 to 600\n",
      "Data columns (total 9 columns):\n",
      " #   Column          Non-Null Count  Dtype  \n",
      "---  ------          --------------  -----  \n",
      " 0   Sex             601 non-null    int64  \n",
      " 1   Age             601 non-null    float64\n",
      " 2   YearsMarried    601 non-null    float64\n",
      " 3   Children        601 non-null    int64  \n",
      " 4   Religious       601 non-null    int64  \n",
      " 5   Education       601 non-null    int64  \n",
      " 6   Occupation      601 non-null    int64  \n",
      " 7   RatingMarriage  601 non-null    int64  \n",
      " 8   Infidelite      601 non-null    int64  \n",
      "dtypes: float64(2), int64(7)\n",
      "memory usage: 42.4 KB\n"
     ]
    }
   ],
   "source": [
    "# description rapide du jeu de données\n",
    "dataset.info()"
   ]
  },
  {
   "cell_type": "markdown",
   "metadata": {},
   "source": [
    "**Ce que je constate :**\n",
    "\n",
    "- Dataset de 601 entrées et 9 colonnes dont index.\n",
    "\n",
    "- Données de type numerique : float et integer.\n",
    "\n",
    "- Aucune données manquantes ou nulles."
   ]
  },
  {
   "cell_type": "code",
   "execution_count": 90,
   "metadata": {},
   "outputs": [
    {
     "name": "stdout",
     "output_type": "stream",
     "text": [
      "Sex 2\n",
      "Age 9\n",
      "YearsMarried 8\n",
      "Children 2\n",
      "Religious 5\n",
      "Education 7\n",
      "Occupation 7\n",
      "RatingMarriage 5\n",
      "Infidelite 2\n"
     ]
    }
   ],
   "source": [
    "for column in dataset.columns:\n",
    "    print(column, dataset[column].nunique())"
   ]
  },
  {
   "cell_type": "markdown",
   "metadata": {},
   "source": [
    "**Ce que je constate :**\n",
    "\n",
    "Les données du dataset concernent des individus mariés en donnant des indications sur :\n",
    "\n",
    "- leur genre (0/1), \n",
    "- leur age, \n",
    "- le nombre d'années de mariage, \n",
    "- si ils ont des enfants (0/1), \n",
    "- leur appartenance religieuse, \n",
    "- leur nombre d'années d'éducation, \n",
    "- leur catégorie d'emploi, \n",
    "- le niveau d'évaluation de leur mariage,\n",
    "- si ils ont été infidèles (0/1)."
   ]
  },
  {
   "cell_type": "markdown",
   "metadata": {},
   "source": [
    "### 3.2 Brève analyse exploratoire"
   ]
  },
  {
   "cell_type": "code",
   "execution_count": 91,
   "metadata": {},
   "outputs": [
    {
     "data": {
      "image/png": "[encoded data removed]",
      "text/plain": [
       "<Figure size 576x432 with 2 Axes>"
      ]
     },
     "metadata": {
      "needs_background": "light"
     },
     "output_type": "display_data"
    }
   ],
   "source": [
    "# Affichage de la matrice de correlation\n",
    "mat_corr = dataset.corr()\n",
    "\n",
    "# en utilisant matplotlib\n",
    "#plt.matshow(mat_corr)\n",
    "\n",
    "# en utilisant seaborn\n",
    "plt.figure(figsize=(8,6))\n",
    "sns.heatmap(mat_corr, annot=True) # avec seaborn\n",
    "plt.show()\n",
    "\n",
    "#print(mat_corr)"
   ]
  },
  {
   "cell_type": "code",
   "execution_count": 92,
   "metadata": {},
   "outputs": [],
   "source": [
    "# en visualisant les variables les plus pertinentes\n",
    "# A premières vues, qu'en déduisez vous ? "
   ]
  },
  {
   "cell_type": "markdown",
   "metadata": {},
   "source": [
    "**Ce que je peux déduire :**\n",
    "\n",
    "La matrice de corrélation permet d'évaluer l'importance et la direction de la relation entre deux variables. Une valeur de corrélation positive élevée indique que les variables mesurent la même caractéristique. Si les items ne sont pas fortement corrélés, ils peuvent mesurer des caractéristiques différentes ou ne pas être clairement définis.\n",
    "\n",
    "- Certaines paires de variables telles que \"Age/YearsMarried\", \"Children/YearsMarried\", \"Occupation/Education\" indiquent une relation positive. On pourrait dire que plus le nombre d'années de mariage est élevé, plus les valeurs des observations Age et Children sont importantes.\n",
    "\n",
    "- D'autres posent question, \"Infidelite/RatingMarriage\", \"YearsMarried/RatingMarriage\", \"Age/RatingMarriage\" ou encore \"Children/RatingMarriage\" en indiquant une relation négative. On pourrait dire que plus la valeur d'évaluation du marriage est basse, plus les valeurs des observations Age, Children, YearsMarried et Infidelité sont importantes."
   ]
  },
  {
   "cell_type": "code",
   "execution_count": 93,
   "metadata": {},
   "outputs": [
    {
     "data": {
      "text/plain": [
       "<seaborn.axisgrid.PairGrid at 0x24e1ef26a60>"
      ]
     },
     "execution_count": 93,
     "metadata": {},
     "output_type": "execute_result"
    },
    {
     "data": {
      "image/png": "[encoded data removed]",
      "text/plain": [
       "<Figure size 232x180 with 1 Axes>"
      ]
     },
     "metadata": {
      "needs_background": "light"
     },
     "output_type": "display_data"
    },
    {
     "data": {
      "image/png": "[encoded data removed]",
      "text/plain": [
       "<Figure size 412x180 with 2 Axes>"
      ]
     },
     "metadata": {
      "needs_background": "light"
     },
     "output_type": "display_data"
    },
    {
     "data": {
      "image/png": "[encoded data removed]",
      "text/plain": [
       "<Figure size 232x720 with 4 Axes>"
      ]
     },
     "metadata": {
      "needs_background": "light"
     },
     "output_type": "display_data"
    }
   ],
   "source": [
    "# visualisation plus précise des variables qui semble le plus pertinentes\n",
    "sns.pairplot(dataset, x_vars=['Occupation'], y_vars=['Education'], hue='Infidelite')\n",
    "sns.pairplot(dataset, x_vars=['Age', 'Children'], y_vars=['YearsMarried'], hue='Infidelite')\n",
    "sns.pairplot(dataset, x_vars=['RatingMarriage'], y_vars=['YearsMarried','Age','Children','Infidelite'], hue='Infidelite')"
   ]
  },
  {
   "cell_type": "markdown",
   "metadata": {},
   "source": [
    "**Ce que je peux déduire :**\n",
    "\n",
    "- Le nombre d'années d'education a une relation avec l'occupation, plus le nombre d'années est important plus la valeur de la variable Occupation est importante. Mais pas de relation pertinente avec l'infidélité.\n",
    "\n",
    "- Bien que le nombre d'années de mariage et l'age soit des variables positivement correlées, plus on est agé plus le nombre d'années de mariage est élevé, ces deux variables ne suffisent pas pour établir une relation pertinente avec l'infidélité. On constate cependant qu'entre 5 et 10 années de mariage, l'infidélité est peu ou pas représentée, sauf si il n'y a pas d'enfant. La présence d'enfant dans un ménage de moins de 5 ans semble aussi avoir une importance dans l'infidélité.\n",
    "\n",
    "- Il n'y a, à priori, pas de relation entre la note d'évaluation du mariage et l'infidélité. Cependant des variables telles que le nombre d'années de mariage et l'age semble contrebalancer cette relation. Les individus satisfaits de leur mariage semblent moins infidèles si ils sont mariés entre 3 et 10 ans ou si ils ont entre 30 et 50 ans."
   ]
  },
  {
   "cell_type": "code",
   "execution_count": 94,
   "metadata": {},
   "outputs": [
    {
     "data": {
      "image/png": "[encoded data removed]",
      "text/plain": [
       "<Figure size 720x216 with 3 Axes>"
      ]
     },
     "metadata": {
      "needs_background": "light"
     },
     "output_type": "display_data"
    }
   ],
   "source": [
    "# Distribution relative des catégories 'Sex' et 'Infidelite'\n",
    "sex = dataset.Sex.value_counts(normalize=True)\n",
    "indidelite = dataset.Infidelite.value_counts(normalize=True)\n",
    "children = dataset.Children.value_counts(normalize=True)\n",
    "religious = dataset.Religious.value_counts(normalize=True)\n",
    "plt.figure(figsize=(10, 3))\n",
    "plt.subplot(131)\n",
    "plt.xlabel('Homme/Femme')\n",
    "plt.ylabel('Pourcentage')\n",
    "plt.bar(sex.index, sex.values)\n",
    "plt.subplot(132)\n",
    "plt.xlabel('Children')\n",
    "plt.bar(children.index, children.values)\n",
    "plt.subplot(133)\n",
    "plt.xlabel('Infidelite')\n",
    "plt.bar(indidelite.index, indidelite.values)\n",
    "plt.suptitle(\"Distributions relatives pour 'sex', 'children' et 'infidelite'\")\n",
    "plt.show()"
   ]
  },
  {
   "cell_type": "markdown",
   "metadata": {},
   "source": [
    "**Ce que je peux déduire :**\n",
    "\n",
    "Distribution relative du dataset :\n",
    "\n",
    "- La répartition homme/femme est quasiment équilibrée.\n",
    "\n",
    "- La majorité des individus ont des enfants.\n",
    "\n",
    "- L'infidelité concerne près de 25% des individus."
   ]
  },
  {
   "cell_type": "code",
   "execution_count": 95,
   "metadata": {},
   "outputs": [
    {
     "data": {
      "text/plain": [
       "<AxesSubplot:title={'center':'Relation Religious et Infidelite'}, xlabel='Religious'>"
      ]
     },
     "execution_count": 95,
     "metadata": {},
     "output_type": "execute_result"
    },
    {
     "data": {
      "image/png": "[encoded data removed]",
      "text/plain": [
       "<Figure size 432x288 with 1 Axes>"
      ]
     },
     "metadata": {
      "needs_background": "light"
     },
     "output_type": "display_data"
    },
    {
     "data": {
      "image/png": "[encoded data removed]",
      "text/plain": [
       "<Figure size 432x288 with 1 Axes>"
      ]
     },
     "metadata": {
      "needs_background": "light"
     },
     "output_type": "display_data"
    },
    {
     "data": {
      "image/png": "[encoded data removed]",
      "text/plain": [
       "<Figure size 432x288 with 1 Axes>"
      ]
     },
     "metadata": {
      "needs_background": "light"
     },
     "output_type": "display_data"
    }
   ],
   "source": [
    "table_sex_infidelite = pd.crosstab(dataset.Sex, dataset.Infidelite)\n",
    "table_sex_infidelite.div(table_sex_infidelite.sum(1).astype(float), axis=0).plot(kind='bar', stacked=True, title=\"Relation Sex et Infidelite\")\n",
    "\n",
    "table_age_infidelite = pd.crosstab(dataset.Age, dataset.Infidelite)\n",
    "table_age_infidelite.div(table_age_infidelite.sum(1).astype(float), axis=0).plot(kind='bar', stacked=True, title=\"Relation Age et Infidelite\")\n",
    "\n",
    "table_religon_infidelite = pd.crosstab(dataset.Religious, dataset.Infidelite)\n",
    "table_religon_infidelite.div(table_religon_infidelite.sum(1).astype(float), axis=0).plot(kind='bar', stacked=True, title=\"Relation Religious et Infidelite\")"
   ]
  },
  {
   "cell_type": "markdown",
   "metadata": {},
   "source": [
    "**Ce que je peux déduire :**\n",
    "\n",
    "- pas plus d'infidélité chez les hommes que chez les femmes;\n",
    "\n",
    "- plus d'infidelité chez les moins de 20 ans que chez les plus de 50;\n",
    "\n",
    "- plus d'infidélité pour chez les individus de catégorie 1 pour la variable Religious;"
   ]
  },
  {
   "cell_type": "markdown",
   "metadata": {
    "colab_type": "text",
    "id": "YvxIPVyMhmKp"
   },
   "source": [
    "## 4. Séparation du dataset en Train set et Test set"
   ]
  },
  {
   "cell_type": "markdown",
   "metadata": {},
   "source": [
    " Les variables indépendantes sont celles qui sont manipulées (data), tandis que les variables dépendantes sont seulement mesurées ou enregistrées (target). "
   ]
  },
  {
   "cell_type": "code",
   "execution_count": 96,
   "metadata": {
    "colab": {},
    "colab_type": "code",
    "id": "AVzJWAXIhxoC"
   },
   "outputs": [],
   "source": [
    "# définissez tout d'abord vos variables : indépendantes/ dependante\n",
    "X = dataset.drop('Infidelite', axis=1)\n",
    "y = dataset['Infidelite']"
   ]
  },
  {
   "cell_type": "code",
   "execution_count": 97,
   "metadata": {},
   "outputs": [],
   "source": [
    "# splittez votre dataset de sorte à avoir 1/3 des données dans le test set\n",
    "test_size = 1/3\n",
    "X_tn, X_tt, y_tn, y_tt = train_test_split(X, y, test_size=test_size, random_state=0, stratify=y)"
   ]
  },
  {
   "cell_type": "code",
   "execution_count": 107,
   "metadata": {
    "colab": {
     "base_uri": "https://localhost:8080/",
     "height": 1000
    },
    "colab_type": "code",
    "executionInfo": {
     "elapsed": 2163,
     "status": "ok",
     "timestamp": 1588265315502,
     "user": {
      "displayName": "Hadelin de Ponteves",
      "photoUrl": "https://lh3.googleusercontent.com/a-/AOh14GhEuXdT7eQweUmRPW8_laJuPggSK6hfvpl5a6WBaA=s64",
      "userId": "15047218817161520419"
     },
     "user_tz": -240
    },
    "id": "P3nS3-6r1i2B",
    "outputId": "75d6e0cf-d13b-42cf-a353-888682415d37"
   },
   "outputs": [
    {
     "name": "stdout",
     "output_type": "stream",
     "text": [
      "Nombre de données y : Train : (400,) ; Test : (201,)\n",
      "Stratification par y : Train : 0.25 ; Test : 0.24875621890547264\n"
     ]
    }
   ],
   "source": [
    "# vérifiez le nombre de données y dans chaque jeu (train et test)\n",
    "print('Nombre de données y : Train :',y_tn.shape,'; Test :', y_tt.shape)\n",
    "print('Stratification par y : Train :', y_tn.mean(), '; Test :', y_tt.mean())"
   ]
  },
  {
   "cell_type": "markdown",
   "metadata": {},
   "source": [
    "**train_test_split() parameters :**\n",
    "\n",
    "- random_state (int, RandomState instance or None), default=None : Controls the shuffling applied to the data before applying the split. Pass an int for reproducible output across multiple function calls. See Glossary.\n",
    "\n",
    "- shuffle (bool), default=True : Whether or not to shuffle the data before splitting. If shuffle=False then stratify must be None.\n",
    "\n",
    "- stratify (array-like), default=None : If not None, data is split in a stratified fashion, using this as the class labels"
   ]
  },
  {
   "cell_type": "markdown",
   "metadata": {
    "colab_type": "text",
    "id": "bb6jCOCQiAmP"
   },
   "source": [
    "## .5. Entrainement de la regression logistique sur le Train set"
   ]
  },
  {
   "cell_type": "code",
   "execution_count": 110,
   "metadata": {
    "colab": {
     "base_uri": "https://localhost:8080/",
     "height": 103
    },
    "colab_type": "code",
    "executionInfo": {
     "elapsed": 2125,
     "status": "ok",
     "timestamp": 1588265315505,
     "user": {
      "displayName": "Hadelin de Ponteves",
      "photoUrl": "https://lh3.googleusercontent.com/a-/AOh14GhEuXdT7eQweUmRPW8_laJuPggSK6hfvpl5a6WBaA=s64",
      "userId": "15047218817161520419"
     },
     "user_tz": -240
    },
    "id": "e0pFVAmciHQs",
    "outputId": "67f64468-abdb-4fe7-cce9-de0037119610"
   },
   "outputs": [
    {
     "name": "stderr",
     "output_type": "stream",
     "text": [
      "C:\\Users\\odazo\\AppData\\Roaming\\Python\\Python39\\site-packages\\sklearn\\linear_model\\_logistic.py:814: ConvergenceWarning: lbfgs failed to converge (status=1):\n",
      "STOP: TOTAL NO. of ITERATIONS REACHED LIMIT.\n",
      "\n",
      "Increase the number of iterations (max_iter) or scale the data as shown in:\n",
      "    https://scikit-learn.org/stable/modules/preprocessing.html\n",
      "Please also refer to the documentation for alternative solver options:\n",
      "    https://scikit-learn.org/stable/modules/linear_model.html#logistic-regression\n",
      "  n_iter_i = _check_optimize_result(\n"
     ]
    },
    {
     "data": {
      "text/plain": [
       "LogisticRegression(penalty='none')"
      ]
     },
     "execution_count": 110,
     "metadata": {},
     "output_type": "execute_result"
    }
   ],
   "source": [
    "# Nous instancions une régression logistique sans pénalité c.-à-d. sans réaliser de régularisation pour l'instant\n",
    "lr = LogisticRegression(penalty='none')\n",
    "# lancement de l’estimation des données de training\n",
    "lr.fit(X_tn, y_tn)"
   ]
  },
  {
   "cell_type": "markdown",
   "metadata": {},
   "source": [
    "**Que se passe t - il ?**\n",
    "\n",
    "Le processus n’a pas convergé alors que le nombre maximal d’itération par défaut est (max_iter = 100).(voir doc)\n",
    "\n",
    "« Scikit-learn » nous propose alors de :\n",
    "\n",
    "- soit augmenter le nombre d’itérations (mais trop de puissance de calcul pour un résultat incertain),\n",
    "\n",
    "- soit de standardiser les données avant de lancer l’algorithme.\n",
    "\n",
    "La documentation de la régression logistique sous « scikit-learn » nous indique les différents algorithmes d’optimisation qu’il est susceptible d’utiliser (option « solver »).\n",
    "\n",
    "Ces approches sont sensibles aux différences d’échelles entre les variables, d’où l’indication « scale the data » dans le\n",
    "« warning » envoyé par la méthode fit()"
   ]
  },
  {
   "cell_type": "code",
   "execution_count": 112,
   "metadata": {},
   "outputs": [
    {
     "name": "stdout",
     "output_type": "stream",
     "text": [
      "         Variable    Coeff.\n",
      "0             Sex  0.322867\n",
      "1             Age -0.037457\n",
      "2    YearsMarried  0.067207\n",
      "3        Children  0.479657\n",
      "4       Religious -0.242763\n",
      "5       Education  0.042252\n",
      "6      Occupation -0.034653\n",
      "7  RatingMarriage -0.600989\n"
     ]
    }
   ],
   "source": [
    "print(pd.DataFrame({\"Variable\": X_tn.columns, \"Coeff.\": lr.coef_[0]}))"
   ]
  },
  {
   "cell_type": "markdown",
   "metadata": {},
   "source": [
    "### Standardisation des données"
   ]
  },
  {
   "cell_type": "markdown",
   "metadata": {},
   "source": [
    "La doc de la régression logistique sous « scikit-learn » nous indique les différents algorithmes d’optimisation qu’il est susceptible d’utiliser (option « solver »).\n",
    "\n",
    "Ces approches sont sensibles aux différences d’échelles entre les variables, d’où l’indication « scale the data » dans le « warning » envoyé par la méthode fit().\n",
    "\n",
    "Nous allons donc centrer et réduire nos données avant de relancer le modèle"
   ]
  },
  {
   "cell_type": "code",
   "execution_count": 100,
   "metadata": {},
   "outputs": [],
   "source": [
    "#importation de la bibliothèque necessaire à la standardisation\n",
    "from sklearn import preprocessing\n",
    "import scipy as sci\n",
    "#instanciation\n",
    "scaler = preprocessing.StandardScaler()\n",
    "scaler.fit(X_tn)\n",
    "#transformation\n",
    "X_tn_scaled = scaler.transform(X_tn)\n",
    "X_tn_scaled = pd.DataFrame(X_tn_scaled, index=X_tn.index, columns=X_tn.columns)\n",
    "X_tt_scaled = scaler.transform(X_tt)\n",
    "X_tt_scaled = pd.DataFrame(X_tt_scaled, index=X_tt.index, columns=X_tt.columns)\n"
   ]
  },
  {
   "cell_type": "code",
   "execution_count": 101,
   "metadata": {},
   "outputs": [
    {
     "data": {
      "text/plain": [
       "Sex              -3.885781e-17\n",
       "Age               1.820766e-16\n",
       "YearsMarried      8.659740e-17\n",
       "Children          1.354472e-16\n",
       "Religious        -1.398881e-16\n",
       "Education        -5.018208e-16\n",
       "Occupation       -2.087219e-16\n",
       "RatingMarriage    4.440892e-17\n",
       "dtype: float64"
      ]
     },
     "execution_count": 101,
     "metadata": {},
     "output_type": "execute_result"
    }
   ],
   "source": [
    "# imprimer les statistiques de descriptions\n",
    "X_tn_scaled.mean()\n",
    "# remarquez que les variables sont bien de moyenne nulle et d’écart-type unitaire."
   ]
  },
  {
   "cell_type": "code",
   "execution_count": 102,
   "metadata": {},
   "outputs": [
    {
     "data": {
      "text/plain": [
       "Sex               1.001252\n",
       "Age               1.001252\n",
       "YearsMarried      1.001252\n",
       "Children          1.001252\n",
       "Religious         1.001252\n",
       "Education         1.001252\n",
       "Occupation        1.001252\n",
       "RatingMarriage    1.001252\n",
       "dtype: float64"
      ]
     },
     "execution_count": 102,
     "metadata": {},
     "output_type": "execute_result"
    }
   ],
   "source": [
    "X_tn_scaled.std()"
   ]
  },
  {
   "cell_type": "code",
   "execution_count": 103,
   "metadata": {},
   "outputs": [],
   "source": [
    "#quelles sont les valeurs que peuvent prendre y ? essayer avec attribute_classes\n"
   ]
  },
  {
   "cell_type": "markdown",
   "metadata": {},
   "source": [
    "### relancez votre modèle"
   ]
  },
  {
   "cell_type": "code",
   "execution_count": 104,
   "metadata": {},
   "outputs": [],
   "source": [
    "# relancez le modèle avec les nouvelles valeurs standardisées\n",
    "\n",
    "#affichez les coefficients"
   ]
  },
  {
   "cell_type": "markdown",
   "metadata": {},
   "source": [
    "### Dé-standardisation des coefficients\n",
    "\n",
    "ATTENTION ! nous travaillons sur des données transformées. Nous devons les « dé-standardiser » en les divisant par les écarts-type des variables.\n"
   ]
  },
  {
   "cell_type": "code",
   "execution_count": 105,
   "metadata": {},
   "outputs": [
    {
     "ename": "NameError",
     "evalue": "name 'classifier_std' is not defined",
     "output_type": "error",
     "traceback": [
      "\u001b[1;31m---------------------------------------------------------------------------\u001b[0m",
      "\u001b[1;31mNameError\u001b[0m                                 Traceback (most recent call last)",
      "\u001b[1;32m~\\AppData\\Local\\Temp/ipykernel_10244/3847790258.py\u001b[0m in \u001b[0;36m<module>\u001b[1;34m\u001b[0m\n\u001b[0;32m      1\u001b[0m \u001b[1;31m#correction des coefficients -\u001b[0m\u001b[1;33m\u001b[0m\u001b[1;33m\u001b[0m\u001b[1;33m\u001b[0m\u001b[0m\n\u001b[0;32m      2\u001b[0m \u001b[1;31m#  dé-standardisationpar les écarts-type utilisés lors de la standardisation des variables\u001b[0m\u001b[1;33m\u001b[0m\u001b[1;33m\u001b[0m\u001b[1;33m\u001b[0m\u001b[0m\n\u001b[1;32m----> 3\u001b[1;33m \u001b[0mcoefUnstd\u001b[0m \u001b[1;33m=\u001b[0m \u001b[0mclassifier_std\u001b[0m\u001b[1;33m.\u001b[0m\u001b[0mcoef_\u001b[0m\u001b[1;33m[\u001b[0m\u001b[1;36m0\u001b[0m\u001b[1;33m]\u001b[0m \u001b[1;33m/\u001b[0m \u001b[0mstds\u001b[0m\u001b[1;33m.\u001b[0m\u001b[0mscale_\u001b[0m\u001b[1;33m\u001b[0m\u001b[1;33m\u001b[0m\u001b[0m\n\u001b[0m\u001b[0;32m      4\u001b[0m \u001b[1;33m\u001b[0m\u001b[0m\n\u001b[0;32m      5\u001b[0m \u001b[1;31m#affichage des coefficients corrigés\u001b[0m\u001b[1;33m\u001b[0m\u001b[1;33m\u001b[0m\u001b[1;33m\u001b[0m\u001b[0m\n",
      "\u001b[1;31mNameError\u001b[0m: name 'classifier_std' is not defined"
     ]
    }
   ],
   "source": [
    "#correction des coefficients -\n",
    "#  dé-standardisationpar les écarts-type utilisés lors de la standardisation des variables\n",
    "coefUnstd = classifier_std.coef_[0] / stds.scale_\n",
    "\n",
    "#affichage des coefficients corrigés\n"
   ]
  },
  {
   "cell_type": "code",
   "execution_count": null,
   "metadata": {},
   "outputs": [
    {
     "name": "stdout",
     "output_type": "stream",
     "text": [
      "[0.81174835]\n"
     ]
    }
   ],
   "source": [
    "# on fait de même pour la constante (l'ordonnée à l'origine)\n",
    "interceptUnStd =classifier_std.intercept_ + np.sum(classifier_std.coef_[0]*(-stds.mean_/stds.scale_))\n",
    "print(interceptUnStd)\n"
   ]
  },
  {
   "cell_type": "markdown",
   "metadata": {
    "colab_type": "text",
    "id": "yyxW5b395mR2"
   },
   "source": [
    "## 6. Réaliser des prédictions sur les résultats du Train set"
   ]
  },
  {
   "cell_type": "code",
   "execution_count": null,
   "metadata": {
    "colab": {
     "base_uri": "https://localhost:8080/",
     "height": 34
    },
    "colab_type": "code",
    "executionInfo": {
     "elapsed": 2118,
     "status": "ok",
     "timestamp": 1588265315505,
     "user": {
      "displayName": "Hadelin de Ponteves",
      "photoUrl": "https://lh3.googleusercontent.com/a-/AOh14GhEuXdT7eQweUmRPW8_laJuPggSK6hfvpl5a6WBaA=s64",
      "userId": "15047218817161520419"
     },
     "user_tz": -240
    },
    "id": "f8YOXsQy58rP",
    "outputId": "2e1b0063-548e-4924-cf3a-93a79d97e35e"
   },
   "outputs": [
    {
     "data": {
      "text/plain": [
       "array([[0.83464078, 0.16535922],\n",
       "       [0.85621929, 0.14378071],\n",
       "       [0.9265064 , 0.0734936 ],\n",
       "       [0.70229399, 0.29770601],\n",
       "       [0.48264007, 0.51735993]])"
      ]
     },
     "execution_count": 137,
     "metadata": {},
     "output_type": "execute_result"
    }
   ],
   "source": [
    "# calcul des probabilités d'affectation\n",
    "\n",
    "# on affiche les 5 premières valeurs prédites\n"
   ]
  },
  {
   "cell_type": "markdown",
   "metadata": {},
   "source": [
    "On observe 2 colonnes : la première correspond au proba d'appartenir à Y=0 et la seconde à Y=1"
   ]
  },
  {
   "cell_type": "code",
   "execution_count": null,
   "metadata": {
    "colab": {
     "base_uri": "https://localhost:8080/",
     "height": 34
    },
    "colab_type": "code",
    "executionInfo": {
     "elapsed": 2118,
     "status": "ok",
     "timestamp": 1588265315505,
     "user": {
      "displayName": "Hadelin de Ponteves",
      "photoUrl": "https://lh3.googleusercontent.com/a-/AOh14GhEuXdT7eQweUmRPW8_laJuPggSK6hfvpl5a6WBaA=s64",
      "userId": "15047218817161520419"
     },
     "user_tz": -240
    },
    "id": "f8YOXsQy58rP",
    "outputId": "2e1b0063-548e-4924-cf3a-93a79d97e35e"
   },
   "outputs": [
    {
     "name": "stdout",
     "output_type": "stream",
     "text": [
      "          Y=0       Y=1  valeur attendue\n",
      "569  0.834641  0.165359                0\n",
      "167  0.856219  0.143781                0\n",
      "435  0.926506  0.073494                0\n",
      "413  0.702294  0.297706                0\n",
      "344  0.482640  0.517360                1\n",
      "..        ...       ...              ...\n",
      "335  0.892892  0.107108                0\n",
      "305  0.733390  0.266610                1\n",
      "158  0.863535  0.136465                0\n",
      "401  0.923431  0.076569                0\n",
      "583  0.869559  0.130441                1\n",
      "\n",
      "[401 rows x 3 columns]\n"
     ]
    }
   ],
   "source": [
    "#et on les compare aux valeurs attendues\n"
   ]
  },
  {
   "cell_type": "markdown",
   "metadata": {
    "colab_type": "text",
    "id": "vKYVQH-l5NpE"
   },
   "source": [
    "## 7. Faites des prédictions des résultats du test set"
   ]
  },
  {
   "cell_type": "code",
   "execution_count": null,
   "metadata": {
    "colab": {
     "base_uri": "https://localhost:8080/",
     "height": 1000
    },
    "colab_type": "code",
    "executionInfo": {
     "elapsed": 2112,
     "status": "ok",
     "timestamp": 1588265315506,
     "user": {
      "displayName": "Hadelin de Ponteves",
      "photoUrl": "https://lh3.googleusercontent.com/a-/AOh14GhEuXdT7eQweUmRPW8_laJuPggSK6hfvpl5a6WBaA=s64",
      "userId": "15047218817161520419"
     },
     "user_tz": -240
    },
    "id": "p6VMTb2O4hwM",
    "outputId": "a4f03a97-2942-45cd-f735-f4063277a96c"
   },
   "outputs": [],
   "source": [
    "# nous devons appliquer la même standardisation sur les valeurs du test set ! \n",
    "\n",
    "#transformation de l'échantillon test\n",
    "\n",
    "\n",
    "#stat. descriptives\n",
    "#print(sci.stats.describe(X1_test,axis=0,ddof=0))\n",
    "\n",
    "# on applique le modèle à l'échantillon\n",
    "\n",
    "\n"
   ]
  },
  {
   "cell_type": "markdown",
   "metadata": {
    "colab_type": "text",
    "id": "h4Hwj34ziWQW"
   },
   "source": [
    "## 8. Evaluation des performances du modèle à l'aide de la matrice de confusion "
   ]
  },
  {
   "cell_type": "code",
   "execution_count": null,
   "metadata": {
    "colab": {
     "base_uri": "https://localhost:8080/",
     "height": 68
    },
    "colab_type": "code",
    "executionInfo": {
     "elapsed": 2107,
     "status": "ok",
     "timestamp": 1588265315506,
     "user": {
      "displayName": "Hadelin de Ponteves",
      "photoUrl": "https://lh3.googleusercontent.com/a-/AOh14GhEuXdT7eQweUmRPW8_laJuPggSK6hfvpl5a6WBaA=s64",
      "userId": "15047218817161520419"
     },
     "user_tz": -240
    },
    "id": "D6bpZwUiiXic",
    "outputId": "f202fcb3-5882-4d93-e5df-50791185067e"
   },
   "outputs": [
    {
     "name": "stdout",
     "output_type": "stream",
     "text": [
      "[[144   6]\n",
      " [ 41   9]]\n"
     ]
    }
   ],
   "source": [
    "# affichez la matrice de confusion\n",
    "cm = \n",
    "print(cm)"
   ]
  },
  {
   "cell_type": "markdown",
   "metadata": {},
   "source": [
    "- Combien y a t-il de faux positifs ? combien de faux négatifs ?\n",
    "- Combien d'éléments sont bien classés? \n",
    "- représentez la matrice de confusion sous la forme d'une heatmap"
   ]
  },
  {
   "cell_type": "code",
   "execution_count": null,
   "metadata": {
    "colab": {
     "base_uri": "https://localhost:8080/",
     "height": 68
    },
    "colab_type": "code",
    "executionInfo": {
     "elapsed": 2107,
     "status": "ok",
     "timestamp": 1588265315506,
     "user": {
      "displayName": "Hadelin de Ponteves",
      "photoUrl": "https://lh3.googleusercontent.com/a-/AOh14GhEuXdT7eQweUmRPW8_laJuPggSK6hfvpl5a6WBaA=s64",
      "userId": "15047218817161520419"
     },
     "user_tz": -240
    },
    "id": "D6bpZwUiiXic",
    "outputId": "f202fcb3-5882-4d93-e5df-50791185067e"
   },
   "outputs": [
    {
     "name": "stdout",
     "output_type": "stream",
     "text": [
      "0.765\n"
     ]
    }
   ],
   "source": [
    "#affichez le taux d'erreur\n"
   ]
  },
  {
   "cell_type": "code",
   "execution_count": null,
   "metadata": {},
   "outputs": [
    {
     "name": "stdout",
     "output_type": "stream",
     "text": [
      "              precision    recall  f1-score   support\n",
      "\n",
      "           0       0.78      0.96      0.86       150\n",
      "           1       0.60      0.18      0.28        50\n",
      "\n",
      "    accuracy                           0.77       200\n",
      "   macro avg       0.69      0.57      0.57       200\n",
      "weighted avg       0.73      0.77      0.71       200\n",
      "\n"
     ]
    }
   ],
   "source": [
    "#affichez le rapport de classification\n",
    "\n"
   ]
  },
  {
   "cell_type": "markdown",
   "metadata": {
    "colab_type": "text",
    "id": "6OMC_P0diaoD"
   },
   "source": [
    "# B. Utilisation de Stats.models"
   ]
  },
  {
   "cell_type": "markdown",
   "metadata": {},
   "source": [
    "## 1. Import des librairies"
   ]
  },
  {
   "cell_type": "code",
   "execution_count": null,
   "metadata": {},
   "outputs": [],
   "source": [
    "#importez la librairie adéquate\n",
    "import numpy as np\n",
    "import statsmodels.api as sm\n",
    "from statsmodels.api import Logit"
   ]
  },
  {
   "cell_type": "markdown",
   "metadata": {},
   "source": [
    "## 2. Preparation du dataset"
   ]
  },
  {
   "cell_type": "code",
   "execution_count": null,
   "metadata": {},
   "outputs": [
    {
     "name": "stdout",
     "output_type": "stream",
     "text": [
      "<class 'pandas.core.frame.DataFrame'>\n",
      "Int64Index: 401 entries, 569 to 583\n",
      "Data columns (total 9 columns):\n",
      " #   Column          Non-Null Count  Dtype  \n",
      "---  ------          --------------  -----  \n",
      " 0   const           401 non-null    float64\n",
      " 1   Sex             401 non-null    int64  \n",
      " 2   Age             401 non-null    float64\n",
      " 3   YearsMarried    401 non-null    float64\n",
      " 4   Children        401 non-null    int64  \n",
      " 5   Religious       401 non-null    int64  \n",
      " 6   Education       401 non-null    int64  \n",
      " 7   Occupation      401 non-null    int64  \n",
      " 8   RatingMarriage  401 non-null    int64  \n",
      "dtypes: float64(3), int64(6)\n",
      "memory usage: 31.3 KB\n",
      "None\n"
     ]
    }
   ],
   "source": [
    "#attention StatsModels ne prend pas en compte l'ordonnée àl'origine 𝑏₀! \n",
    "# vous devez inclure la colonne supplémentaire de \"1\" dans x. \n",
    "#faites cela avec add_constant ():\n",
    "\n",
    "from statsmodels.tools import add_constant\n",
    "#données X avec la constante\n",
    "\n",
    "#vérifier la structure, vous devez bien avoir une colonne en plus\n",
    "\n"
   ]
  },
  {
   "cell_type": "markdown",
   "metadata": {},
   "source": [
    "## 3. Entrainement du modèle"
   ]
  },
  {
   "cell_type": "code",
   "execution_count": null,
   "metadata": {},
   "outputs": [
    {
     "name": "stdout",
     "output_type": "stream",
     "text": [
      "Optimization terminated successfully.\n",
      "         Current function value: 0.511723\n",
      "         Iterations 6\n"
     ]
    }
   ],
   "source": [
    "# Créez votre modèle de régression logistique \n",
    "\n",
    "#lancez les calculs\n"
   ]
  },
  {
   "cell_type": "code",
   "execution_count": null,
   "metadata": {},
   "outputs": [
    {
     "data": {
      "text/plain": [
       "const             0.811794\n",
       "Sex              -0.040367\n",
       "Age              -0.016375\n",
       "YearsMarried      0.061595\n",
       "Children          0.101120\n",
       "Religious        -0.307265\n",
       "Education         0.043020\n",
       "Occupation        0.044014\n",
       "RatingMarriage   -0.508548\n",
       "dtype: float64"
      ]
     },
     "execution_count": 170,
     "metadata": {},
     "output_type": "execute_result"
    }
   ],
   "source": [
    "#pour accéder aux valeurs des coefficients, utilisez .params\n",
    "#Obtenez vous les même résulats que précedemment? \n"
   ]
  },
  {
   "cell_type": "code",
   "execution_count": null,
   "metadata": {},
   "outputs": [
    {
     "data": {
      "text/html": [
       "<table class=\"simpletable\">\n",
       "<caption>Logit Regression Results</caption>\n",
       "<tr>\n",
       "  <th>Dep. Variable:</th>    <td>Infidelite</td>    <th>  No. Observations:  </th>  <td>   401</td>  \n",
       "</tr>\n",
       "<tr>\n",
       "  <th>Model:</th>               <td>Logit</td>      <th>  Df Residuals:      </th>  <td>   392</td>  \n",
       "</tr>\n",
       "<tr>\n",
       "  <th>Method:</th>               <td>MLE</td>       <th>  Df Model:          </th>  <td>     8</td>  \n",
       "</tr>\n",
       "<tr>\n",
       "  <th>Date:</th>          <td>Wed, 03 Feb 2021</td> <th>  Pseudo R-squ.:     </th>  <td>0.08889</td> \n",
       "</tr>\n",
       "<tr>\n",
       "  <th>Time:</th>              <td>21:09:34</td>     <th>  Log-Likelihood:    </th> <td> -205.20</td> \n",
       "</tr>\n",
       "<tr>\n",
       "  <th>converged:</th>           <td>True</td>       <th>  LL-Null:           </th> <td> -225.22</td> \n",
       "</tr>\n",
       "<tr>\n",
       "  <th> </th>                      <td> </td>        <th>  LLR p-value:       </th> <td>3.148e-06</td>\n",
       "</tr>\n",
       "</table>\n",
       "<table class=\"simpletable\">\n",
       "<tr>\n",
       "         <td></td>           <th>coef</th>     <th>std err</th>      <th>z</th>      <th>P>|z|</th>  <th>[0.025</th>    <th>0.975]</th>  \n",
       "</tr>\n",
       "<tr>\n",
       "  <th>const</th>          <td>    0.8118</td> <td>    1.040</td> <td>    0.780</td> <td> 0.435</td> <td>   -1.227</td> <td>    2.851</td>\n",
       "</tr>\n",
       "<tr>\n",
       "  <th>Sex</th>            <td>   -0.0404</td> <td>    0.289</td> <td>   -0.140</td> <td> 0.889</td> <td>   -0.607</td> <td>    0.526</td>\n",
       "</tr>\n",
       "<tr>\n",
       "  <th>Age</th>            <td>   -0.0164</td> <td>    0.021</td> <td>   -0.766</td> <td> 0.444</td> <td>   -0.058</td> <td>    0.026</td>\n",
       "</tr>\n",
       "<tr>\n",
       "  <th>YearsMarried</th>   <td>    0.0616</td> <td>    0.039</td> <td>    1.594</td> <td> 0.111</td> <td>   -0.014</td> <td>    0.137</td>\n",
       "</tr>\n",
       "<tr>\n",
       "  <th>Children</th>       <td>    0.1011</td> <td>    0.343</td> <td>    0.295</td> <td> 0.768</td> <td>   -0.570</td> <td>    0.773</td>\n",
       "</tr>\n",
       "<tr>\n",
       "  <th>Religious</th>      <td>   -0.3073</td> <td>    0.107</td> <td>   -2.867</td> <td> 0.004</td> <td>   -0.517</td> <td>   -0.097</td>\n",
       "</tr>\n",
       "<tr>\n",
       "  <th>Education</th>      <td>    0.0430</td> <td>    0.062</td> <td>    0.693</td> <td> 0.488</td> <td>   -0.079</td> <td>    0.165</td>\n",
       "</tr>\n",
       "<tr>\n",
       "  <th>Occupation</th>     <td>    0.0440</td> <td>    0.088</td> <td>    0.498</td> <td> 0.618</td> <td>   -0.129</td> <td>    0.217</td>\n",
       "</tr>\n",
       "<tr>\n",
       "  <th>RatingMarriage</th> <td>   -0.5085</td> <td>    0.112</td> <td>   -4.547</td> <td> 0.000</td> <td>   -0.728</td> <td>   -0.289</td>\n",
       "</tr>\n",
       "</table>"
      ],
      "text/plain": [
       "<class 'statsmodels.iolib.summary.Summary'>\n",
       "\"\"\"\n",
       "                           Logit Regression Results                           \n",
       "==============================================================================\n",
       "Dep. Variable:             Infidelite   No. Observations:                  401\n",
       "Model:                          Logit   Df Residuals:                      392\n",
       "Method:                           MLE   Df Model:                            8\n",
       "Date:                Wed, 03 Feb 2021   Pseudo R-squ.:                 0.08889\n",
       "Time:                        21:09:34   Log-Likelihood:                -205.20\n",
       "converged:                       True   LL-Null:                       -225.22\n",
       "                                        LLR p-value:                 3.148e-06\n",
       "==================================================================================\n",
       "                     coef    std err          z      P>|z|      [0.025      0.975]\n",
       "----------------------------------------------------------------------------------\n",
       "const              0.8118      1.040      0.780      0.435      -1.227       2.851\n",
       "Sex               -0.0404      0.289     -0.140      0.889      -0.607       0.526\n",
       "Age               -0.0164      0.021     -0.766      0.444      -0.058       0.026\n",
       "YearsMarried       0.0616      0.039      1.594      0.111      -0.014       0.137\n",
       "Children           0.1011      0.343      0.295      0.768      -0.570       0.773\n",
       "Religious         -0.3073      0.107     -2.867      0.004      -0.517      -0.097\n",
       "Education          0.0430      0.062      0.693      0.488      -0.079       0.165\n",
       "Occupation         0.0440      0.088      0.498      0.618      -0.129       0.217\n",
       "RatingMarriage    -0.5085      0.112     -4.547      0.000      -0.728      -0.289\n",
       "==================================================================================\n",
       "\"\"\""
      ]
     },
     "execution_count": 171,
     "metadata": {},
     "output_type": "execute_result"
    }
   ],
   "source": [
    "# affichez le rapport des metriques avec stat.model. Il est possible d'utiliser .summary() soit .summary2()\n",
    "#pour plus d'infos : https://www.statsmodels.org/stable/generated/statsmodels.discrete.discrete_model.LogitResults.html"
   ]
  },
  {
   "cell_type": "markdown",
   "metadata": {},
   "source": [
    "## 4. Réaliser des prédictions sur les résultats du Test set"
   ]
  },
  {
   "cell_type": "code",
   "execution_count": null,
   "metadata": {},
   "outputs": [],
   "source": [
    "#affichez les probabilités de prédiction\n"
   ]
  },
  {
   "cell_type": "code",
   "execution_count": null,
   "metadata": {},
   "outputs": [],
   "source": [
    "#utilisez les pour afficher les valeurs de y en ayant établi un seuil à 0.5\n"
   ]
  },
  {
   "cell_type": "markdown",
   "metadata": {},
   "source": [
    "## 5. Evaluation des performances du modèle à l'aide de la matrice de confusion"
   ]
  },
  {
   "cell_type": "code",
   "execution_count": null,
   "metadata": {},
   "outputs": [
    {
     "name": "stdout",
     "output_type": "stream",
     "text": [
      "col_0         0  1\n",
      "Infidelite        \n",
      "0           144  6\n",
      "1            41  9\n"
     ]
    }
   ],
   "source": [
    "#obtenez la matrice de confusion avec crosstable\n"
   ]
  },
  {
   "cell_type": "code",
   "execution_count": null,
   "metadata": {},
   "outputs": [
    {
     "name": "stdout",
     "output_type": "stream",
     "text": [
      "Taux de reconnaissance : 0.765\n",
      "Taux d'erreur' :  0.235\n"
     ]
    }
   ],
   "source": [
    "#calculez également le taux de reconnaissance et le taux d'erreur  : (taux d'erreur = 1- taux de reconnaissance)\n",
    "\n",
    "\n",
    "#taux d'erreur\n"
   ]
  },
  {
   "cell_type": "markdown",
   "metadata": {},
   "source": [
    "Obtenez vous bien les même résultats que précédement ?"
   ]
  },
  {
   "cell_type": "markdown",
   "metadata": {},
   "source": [
    "## 6. Evaluation des performances du modèle à l'aide du diagramme de fiabilité"
   ]
  },
  {
   "cell_type": "markdown",
   "metadata": {},
   "source": [
    "\n",
    "\n",
    "Le diagramme de fiabilité est un outil de diagnostic graphique. Il oppose les proba d'affectation à la valeur \"Y=1\" estimés par le modèle(appelés scores)  aux affectations observées. S’ils forment une droite, nous pouvons considérer que la modélisation est\n",
    "pertinente car le modèle arrive à approcher de manière satisfaisante l’appartenance aux classes des\n",
    "individus.\n",
    "\n",
    "Voici les principales étapes de la construction du diagramme de fiabilité :\n",
    "1. Appliquer le classifier sur les données pour obtenir le score.\n",
    "2. Trier le fichier selon le score croissant.\n",
    "3. Sur la base du score, subdiviser les données en intervalles (ex. 0.0-0.2, 0.2-0.4, etc.).\n",
    "4. Dans chaque intervalle, calculer la proportion de positifs.\n",
    "5. Dans le même temps, toujours dans chaque intervalle, calculer la moyenne des scores.\n",
    "6. Si les chiffres concordent dans chaque intervalle, les scores sont bien calibrés, le classifieur est de bonne qualité.\n",
    "7. Nous pouvons résumer l'information dans un graphique nuage de points appelé diagramme de fiabilité, avec en abcisse la moyenne des scores, en ordonnée la proportion de \"positifs\".\n",
    "8. Si les scores sont bien calibrés, les points devraient être alignés sur une droite, la première bissectrice.\n",
    "9. Les points s'écartant sensiblement de la première bissectrice doivent attirer notre attention"
   ]
  },
  {
   "cell_type": "code",
   "execution_count": null,
   "metadata": {},
   "outputs": [],
   "source": [
    "# on cré un tableau temporaire avec les valeurs de y observées et les scores\n"
   ]
  },
  {
   "cell_type": "code",
   "execution_count": null,
   "metadata": {},
   "outputs": [
    {
     "name": "stdout",
     "output_type": "stream",
     "text": [
      "     y     score       intervalle\n",
      "129  0  0.397588   (0.313, 0.439]\n",
      "343  0  0.169954  (0.0577, 0.186]\n",
      "382  0  0.210396   (0.186, 0.313]\n",
      "514  0  0.223260   (0.186, 0.313]\n",
      "404  0  0.321415   (0.313, 0.439]\n",
      "..  ..       ...              ...\n",
      "358  0  0.076253  (0.0577, 0.186]\n",
      "235  0  0.255256   (0.186, 0.313]\n",
      "68   0  0.166297  (0.0577, 0.186]\n",
      "255  0  0.270479   (0.186, 0.313]\n",
      "139  0  0.344754   (0.313, 0.439]\n",
      "\n",
      "[200 rows x 3 columns]\n"
     ]
    }
   ],
   "source": [
    "# on sépare les scores en 5 intervalles de largeur égales\n",
    "\n",
    "#et on les intègre dans le df\n",
    "\n"
   ]
  },
  {
   "cell_type": "code",
   "execution_count": null,
   "metadata": {},
   "outputs": [
    {
     "name": "stdout",
     "output_type": "stream",
     "text": [
      "                    score\n",
      "intervalle               \n",
      "(0.0577, 0.186]  0.129337\n",
      "(0.186, 0.313]   0.234297\n",
      "(0.313, 0.439]   0.358634\n",
      "(0.439, 0.566]   0.509728\n",
      "(0.566, 0.692]   0.620552\n"
     ]
    }
   ],
   "source": [
    "# on calcule la moyenne des scores dans chaque groupe à l'aide de pivot_table\n"
   ]
  },
  {
   "cell_type": "code",
   "execution_count": null,
   "metadata": {},
   "outputs": [
    {
     "name": "stdout",
     "output_type": "stream",
     "text": [
      "                        y\n",
      "intervalle               \n",
      "(0.0577, 0.186]  0.178571\n",
      "(0.186, 0.313]   0.192982\n",
      "(0.313, 0.439]   0.341463\n",
      "(0.439, 0.566]   0.400000\n",
      "(0.566, 0.692]   0.750000\n"
     ]
    }
   ],
   "source": [
    "# puis la moyenne des y observés\n",
    "\n"
   ]
  },
  {
   "cell_type": "code",
   "execution_count": null,
   "metadata": {},
   "outputs": [
    {
     "data": {
      "image/png": "[encoded data removed]",
      "text/plain": [
       "<Figure size 432x288 with 1 Axes>"
      ]
     },
     "metadata": {},
     "output_type": "display_data"
    }
   ],
   "source": [
    "# on construit le diagramme \n",
    "#en faisant apparaitre la diagonale\n",
    "\n",
    "#et en ajoutant notre diagramme\n",
    "\n",
    "#titre\n",
    "plt.title(\"Diagramme de fiabilité\")\n",
    "#tracé\n",
    "plt.show()\n"
   ]
  },
  {
   "cell_type": "markdown",
   "metadata": {},
   "source": [
    "les points sont tout de même éloignés de la bissectrice, le modèle peut être amélioré"
   ]
  },
  {
   "cell_type": "markdown",
   "metadata": {},
   "source": [
    "## 7. Evaluation des performances du modèle à l'aide de la courbe ROC"
   ]
  },
  {
   "cell_type": "markdown",
   "metadata": {},
   "source": [
    "Pour évaluer un modèle le taux d’erreur semble être un indicateur synthétique pertinent, il indique (estime) la probabilité de mal classer un individu de la population.\n",
    "Les autres indicateurs sont très intéressants également (sensibilité/rappel,précision/spécificité) mais obligent à surveiller plusieurs valeurs simultanément.\n",
    "\n",
    "Mais lorsque les classes sont très déséquilibrées, la matrice de confusion et surtout le\n",
    "taux d’erreur donnent souvent une fausse idée de la qualité de l’apprentissage. Doù l'intérêt de la courbe ROC!\n",
    "les résultats qu'elle fournit sont valables même si l'échantillon n'est pas représentatif\n",
    "\n",
    "cas du modèle qui ne fait pas mieux que l’affectation des probabilités\n",
    "- notre courbe ne doit pas passer en dessous\n",
    "- plus il s’en écarte vers le haut, mieux c’est"
   ]
  },
  {
   "cell_type": "code",
   "execution_count": null,
   "metadata": {},
   "outputs": [
    {
     "data": {
      "image/png": "[encoded data removed]",
      "text/plain": [
       "<Figure size 432x288 with 1 Axes>"
      ]
     },
     "metadata": {},
     "output_type": "display_data"
    }
   ],
   "source": [
    "# on utilise roc_curve (scikit- learn )\n",
    "# on trace la diagonale de référence\n",
    "#fpr (false positive rate -- taux de faux positifs) en abscisse\n",
    "#tpr (true positive rate – taux de vrais positifs) en ordonnée\n",
    "#pos_label = 1 pour indiquer la modalité cible\n"
   ]
  },
  {
   "cell_type": "code",
   "execution_count": null,
   "metadata": {},
   "outputs": [
    {
     "name": "stdout",
     "output_type": "stream",
     "text": [
      "AUC : 0.6934\n"
     ]
    }
   ],
   "source": [
    "# on calcule l'aire sous la courbe en faisant appel à la fonction roc_auc_score()\n"
   ]
  },
  {
   "cell_type": "markdown",
   "metadata": {},
   "source": [
    "## 8. Ajustement du modèle"
   ]
  },
  {
   "cell_type": "markdown",
   "metadata": {},
   "source": [
    "## 9. Selection des variables au regard de leur significativité : approche statistique "
   ]
  },
  {
   "cell_type": "markdown",
   "metadata": {},
   "source": [
    "### Via le test du rapport de vraisemblance"
   ]
  },
  {
   "cell_type": "code",
   "execution_count": null,
   "metadata": {},
   "outputs": [],
   "source": []
  }
 ],
 "metadata": {
  "colab": {
   "authorship_tag": "ABX9TyOsvB/iqEjYj3VN6C/JbvkE",
   "collapsed_sections": [],
   "machine_shape": "hm",
   "name": "logistic_regression.ipynb",
   "provenance": [],
   "toc_visible": true
  },
  "kernelspec": {
   "display_name": "Python 3",
   "language": "python",
   "name": "python3"
  },
  "language_info": {
   "codemirror_mode": {
    "name": "ipython",
    "version": 3
   },
   "file_extension": ".py",
   "mimetype": "text/x-python",
   "name": "python",
   "nbconvert_exporter": "python",
   "pygments_lexer": "ipython3",
   "version": "3.9.4"
  }
 },
 "nbformat": 4,
 "nbformat_minor": 1
}
